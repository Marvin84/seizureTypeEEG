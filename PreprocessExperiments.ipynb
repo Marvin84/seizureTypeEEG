{
 "cells": [
  {
   "cell_type": "code",
   "execution_count": 1,
   "metadata": {
    "collapsed": true
   },
   "outputs": [],
   "source": [
    "#Important functions you will need\n",
    "def getLabelAndTimeStartAndEnd(filename):\n",
    "    returnList = []\n",
    "    with open(filename) as file:\n",
    "        for line in file:\n",
    "            if len(line.split()) == 4:\n",
    "                returnList.append(line.split()[:-1])\n",
    "    return returnList\n",
    "\n",
    "def get_info_with_mne(file_path):\n",
    "    \"\"\" read info from the edf file without loading the data. loading data is done in multiprocessing since it takes\n",
    "    some time. getting info is done before because some files had corrupted headers or weird sampling frequencies\n",
    "    that caused the multiprocessing workers to crash. therefore get and check e.g. sampling frequency and duration\n",
    "    beforehand\n",
    "    :param file_path: path of the recording file\n",
    "    :return: file name, sampling frequency, number of samples, number of signals, signal names, duration of the rec\n",
    "    \"\"\"\n",
    "    try:\n",
    "        f = mne.io.read_raw_edf(file_path+\".edf\", verbose='error')\n",
    "        labelList = getLabelAndTimeStartAndEnd(file_path+\".tse\")\n",
    "    except ValueError:\n",
    "        return None, None, None, None, None, None\n",
    "\n",
    "    \n",
    "    samplingFrequency = int(f.info['sfreq'])\n",
    "    if samplingFrequency < 10:\n",
    "        samplingFrequency = 1 / (f.times[1] - f.times[0])\n",
    "        if samplingFrequency < 10:\n",
    "            return None, sampling_frequency, None, None\n",
    "\n",
    "    # edf_file, sampling_frequency, n_samples, signal_names\n",
    "    # remember that duration = n_samples / sampling_frequency \n",
    "    return f, samplingFrequency, f.n_times, f.ch_names, labelList\n",
    "\n",
    "\n",
    "\n"
   ]
  },
  {
   "cell_type": "code",
   "execution_count": 57,
   "metadata": {
    "collapsed": false
   },
   "outputs": [],
   "source": [
    "class Metadata(object):\n",
    "\n",
    "    def __init__(self):\n",
    "        self.shape = None\n",
    "        self.data_length_sec = None\n",
    "        self.sampling_frequency = None\n",
    "        self.channels = None\n",
    "        self.sequences = []\n",
    "\n",
    "    def add_shape(self, shape):\n",
    "        if self.shape is None:\n",
    "            self.shape = shape\n",
    "        else:\n",
    "            assert shape == self.shape\n",
    "\n",
    "    def add_data_length_sec(self, data_length_sec):\n",
    "        if self.data_length_sec is None:\n",
    "            self.data_length_sec = data_length_sec\n",
    "        else:\n",
    "            assert data_length_sec == self.data_length_sec\n",
    "\n",
    "    def add_sampling_frequency(self, sampling_frequency):\n",
    "        if self.sampling_frequency is None:\n",
    "            self.sampling_frequency = sampling_frequency\n",
    "        else:\n",
    "            assert sampling_frequency == self.sampling_frequency\n",
    "\n",
    "    def add_channels(self, channels):\n",
    "        if self.channels is None:\n",
    "            self.channels = channels\n",
    "        else:\n",
    "            assert np.alltrue(channels == self.channels)\n",
    "\n",
    "    def add_sequence(self, sequence):\n",
    "        if sequence is not None:\n",
    "            self.sequences.append(sequence)\n"
   ]
  },
  {
   "cell_type": "code",
   "execution_count": null,
   "metadata": {
    "collapsed": true
   },
   "outputs": [],
   "source": [
    "class Windower:\n",
    "    \"\"\"\n",
    "    Breaks the time-series data into N second segments, for example 60s windows\n",
    "    will create 10 windows given a 600s segment. The output is the reshaped data\n",
    "    e.g. (600, 120000) -> (600, 10, 12000)\n",
    "    \"\"\"\n",
    "    def __init__(self, window_secs=None):\n",
    "        self.window_secs = window_secs\n",
    "        self.name = 'w-%ds' % window_secs if window_secs is not None else 'w-whole'\n",
    "\n",
    "    def get_name(self):\n",
    "        return self.name\n",
    "\n",
    "    def apply(self, X, meta=None):\n",
    "        if self.window_secs is None:\n",
    "            return X.reshape([1] + list(X.shape))\n",
    "\n",
    "        num_windows = meta.data_length_sec / self.window_secs\n",
    "        samples_per_window = self.window_secs * int(meta.sampling_frequency)\n",
    "        samples_used = num_windows * samples_per_window\n",
    "        samples_dropped = X.shape[-1] - samples_used\n",
    "        X = Slice(samples_dropped).apply(X)\n",
    "        out = np.split(X, num_windows, axis=X.ndim-1)\n",
    "        out = to_np_array(out)\n",
    "        return out\n"
   ]
  },
  {
   "cell_type": "code",
   "execution_count": null,
   "metadata": {
    "collapsed": true
   },
   "outputs": [],
   "source": [
    "def to_np_array(X):\n",
    "    if isinstance(X[0], np.ndarray):\n",
    "        # return np.vstack(X)\n",
    "        out = np.empty([len(X)] + list(X[0].shape), dtype=X[0].dtype)\n",
    "        for i, x in enumerate(X):\n",
    "            out[i] = x\n",
    "        return out\n",
    "\n",
    "    return np.array(X)"
   ]
  },
  {
   "cell_type": "code",
   "execution_count": null,
   "metadata": {
    "collapsed": true
   },
   "outputs": [],
   "source": [
    "class Slice:\n",
    "    \"\"\"\n",
    "    Take a slice of the data on the last axis.\n",
    "    e.g. Slice(1, 48) works like a normal python slice, that is 1-47 will be taken\n",
    "    \"\"\"\n",
    "    def __init__(self, start, end=None):\n",
    "        self.start = start\n",
    "        self.end = end\n",
    "\n",
    "    def get_name(self):\n",
    "        return \"slice%d%s\" % (self.start, '-%d' % self.end if self.end is not None else '')\n",
    "\n",
    "    def apply(self, data, meta=None):\n",
    "        s = [slice(None),] * data.ndim\n",
    "        s[-1] = slice(self.start, self.end)\n",
    "        return data[s]"
   ]
  },
  {
   "cell_type": "code",
   "execution_count": null,
   "metadata": {
    "collapsed": true
   },
   "outputs": [],
   "source": [
    "dataFromEdf[0]"
   ]
  },
  {
   "cell_type": "code",
   "execution_count": 2,
   "metadata": {
    "collapsed": true
   },
   "outputs": [],
   "source": [
    "%matplotlib qt\n",
    "%matplotlib inline\n",
    "\n",
    "#remember to do \"conda activate mne\" before launching the jupyter notebook\n",
    "from functools import partial\n",
    "import multiprocessing as mp\n",
    "import numpy as np\n",
    "import pandas as pd\n",
    "import logging\n",
    "import os\n",
    "import mne\n",
    "\n",
    "prePath = \"/Users/tinaraissi/workspace/EEG/tuh-eeg-auto-diagnosis/\"\n"
   ]
  },
  {
   "cell_type": "code",
   "execution_count": 3,
   "metadata": {
    "collapsed": true
   },
   "outputs": [],
   "source": [
    "def getDataframe(filename):\n",
    "    #this function read an edf file and returns a dataframe (n_samples * n_channels)\n",
    "    # having the time samples for each electrode in each column\n",
    "    \n",
    "    edfData =  mne.io.read_raw_edf(filename)\n",
    "    dataFromEdf = edfData.get_data()\n",
    "    dataset = pd.DataFrame(index=range(edfData.n_times), columns=edfData.ch_names)\n",
    "\n",
    "    #At this point you have \n",
    "    for dataSample, channel in enumerate(edfData.ch_names):\n",
    "        dataset[channel] = dataFromEdf[dataSample]\n",
    "        \n",
    "    return edfData, dataset        "
   ]
  },
  {
   "cell_type": "code",
   "execution_count": 4,
   "metadata": {
    "collapsed": false
   },
   "outputs": [
    {
     "name": "stdout",
     "output_type": "stream",
     "text": [
      "Extracting EDF parameters from v1.4.0/edf/train/02_tcp_le/001/00000143/s001_2003_03_10/00000143_s001_t001.edf...\n",
      "EDF file detected\n",
      "Setting channel info structure...\n",
      "Creating raw.info structure...\n"
     ]
    }
   ],
   "source": [
    "#File formats in the relative folder\n",
    "#*.edf:    the EEG sampled data in European Data Format (edf)\n",
    "#*.txt:    the EEG report corresponding to the patient and session\n",
    "#*.tse:    term-based annotations using all available seizure type classes\n",
    "#*.tse_bi: same as *.tse except bi-class annotations (seizure/background) \n",
    "#*.lbl:    event-based annotations using all available seizure type classes\n",
    "#*.lbl_bi: same as *.lbl except bi-class annotations (seizure/background)\n",
    "\n",
    "#filename = prePath+\"v1.4.0/edf/train/02_tcp_le/001/00000143/s001_2003_03_10/00000143_s001_t001.edf\"\n",
    "filename = \"v1.4.0/edf/train/02_tcp_le/001/00000143/s001_2003_03_10/00000143_s001_t001.edf\"\n",
    "edfData, dataset =  getDataframe(filename)\n"
   ]
  },
  {
   "cell_type": "code",
   "execution_count": 5,
   "metadata": {
    "collapsed": true
   },
   "outputs": [],
   "source": [
    "labelFilename = \"v1.4.0/edf/train/02_tcp_le/001/00000143/s001_2003_03_10/00000143_s001_t001.tse\""
   ]
  },
  {
   "cell_type": "code",
   "execution_count": 6,
   "metadata": {
    "collapsed": true
   },
   "outputs": [],
   "source": [
    "def init_processing_units():\n",
    "    self.cleaner = data_cleaner.DataCleaner(elecs=cmd_args.elecs)\n",
    "    self.splitter = data_splitter.DataSplitter(window=cmd_args.window, window_size_sec=cmd_args.windowsize,\n",
    "                                               overlap=cmd_args.overlap)\n",
    "    self.feature_generator = feature_generator.FeatureGenerator(domain=cmd_args.domain, bands=cmd_args.bands,\n",
    "                                                                window_size_sec=cmd_args.windowsize,\n",
    "                                                                overlap=cmd_args.overlap, perrec=cmd_args.perrec,\n",
    "                                                                electrodes=self.cleaner.get_electrodes())"
   ]
  },
  {
   "cell_type": "code",
   "execution_count": 7,
   "metadata": {
    "collapsed": false
   },
   "outputs": [
    {
     "data": {
      "text/plain": [
       "'V1.4.0/Edf/Train/02_Tcp_Le/001/00000143/S001_2003_03_10/00000143_S001_T001.Edf'"
      ]
     },
     "execution_count": 7,
     "metadata": {},
     "output_type": "execute_result"
    }
   ],
   "source": [
    "filename.title()"
   ]
  },
  {
   "cell_type": "code",
   "execution_count": 8,
   "metadata": {
    "collapsed": false
   },
   "outputs": [
    {
     "name": "stdout",
     "output_type": "stream",
     "text": [
      "['version', '=', 'tse_v1.0.0']\n",
      "[]\n",
      "['0.0000', '1279.0000', 'bckg', '1.0000']\n"
     ]
    }
   ],
   "source": []
  },
  {
   "cell_type": "code",
   "execution_count": null,
   "metadata": {
    "collapsed": true
   },
   "outputs": [],
   "source": []
  },
  {
   "cell_type": "code",
   "execution_count": 7,
   "metadata": {
    "collapsed": false
   },
   "outputs": [],
   "source": [
    "rootdir = \"v1.4.0/edf/train/02_tcp_le\"\n",
    "segLabelFilenames = {}\n",
    "\n",
    "\n",
    "for subdir, dirs, files in os.walk(rootdir):\n",
    "    for file in files:\n",
    "        p = os.path.join(subdir, file)\n",
    "        if p.endswith(\"edf\"):\n",
    "            segLabelFilenames[p[56:-4]] = p.split(\".edf\")[0]\n",
    "        "
   ]
  },
  {
   "cell_type": "code",
   "execution_count": 9,
   "metadata": {
    "collapsed": false
   },
   "outputs": [],
   "source": [
    "p = list(segLabelFilenames.keys())[100]"
   ]
  },
  {
   "cell_type": "code",
   "execution_count": 10,
   "metadata": {
    "collapsed": false
   },
   "outputs": [],
   "source": [
    "#edf_file, sampling_frequency, n_samples, n_signals, signal_names, duration\n",
    "f = get_info_with_mne(segLabelFilenames[p])"
   ]
  },
  {
   "cell_type": "code",
   "execution_count": 11,
   "metadata": {
    "collapsed": false
   },
   "outputs": [
    {
     "data": {
      "text/plain": [
       "(<RawEDF  |  00000002_s005_t001.edf, n_channels x n_times : 33 x 88000 (352.0 sec), ~67 kB, data not loaded>,\n",
       " 250,\n",
       " 88000,\n",
       " ['EEG FP1-LE',\n",
       "  'EEG FP2-LE',\n",
       "  'EEG F3-LE',\n",
       "  'EEG F4-LE',\n",
       "  'EEG C3-LE',\n",
       "  'EEG C4-LE',\n",
       "  'EEG A1-LE',\n",
       "  'EEG A2-LE',\n",
       "  'EEG P3-LE',\n",
       "  'EEG P4-LE',\n",
       "  'EEG O1-LE',\n",
       "  'EEG O2-LE',\n",
       "  'EEG F7-LE',\n",
       "  'EEG F8-LE',\n",
       "  'EEG T3-LE',\n",
       "  'EEG T4-LE',\n",
       "  'EEG T5-LE',\n",
       "  'EEG T6-LE',\n",
       "  'EEG FZ-LE',\n",
       "  'EEG CZ-LE',\n",
       "  'EEG PZ-LE',\n",
       "  'EEG OZ-LE',\n",
       "  'EEG PG1-LE',\n",
       "  'EEG PG2-LE',\n",
       "  'EEG EKG-LE',\n",
       "  'EEG SP2-LE',\n",
       "  'EEG SP1-LE',\n",
       "  'EEG RLC-LE',\n",
       "  'EEG LUC-LE',\n",
       "  'EEG 30-LE',\n",
       "  'EEG T1-LE',\n",
       "  'EEG T2-LE',\n",
       "  'STI 014'],\n",
       " [['0.0000', '352.0000', 'bckg']])"
      ]
     },
     "execution_count": 11,
     "metadata": {},
     "output_type": "execute_result"
    }
   ],
   "source": [
    "f"
   ]
  },
  {
   "cell_type": "code",
   "execution_count": 13,
   "metadata": {
    "collapsed": false
   },
   "outputs": [],
   "source": [
    "segLabelFilenames[p]\n",
    "f = get_info_with_mne(segLabelFilenames[p])"
   ]
  },
  {
   "cell_type": "code",
   "execution_count": 16,
   "metadata": {
    "collapsed": false
   },
   "outputs": [
    {
     "data": {
      "text/plain": [
       "(<RawEDF  |  00000002_s005_t001.edf, n_channels x n_times : 33 x 88000 (352.0 sec), ~67 kB, data not loaded>,\n",
       " 250,\n",
       " 88000,\n",
       " ['EEG FP1-LE',\n",
       "  'EEG FP2-LE',\n",
       "  'EEG F3-LE',\n",
       "  'EEG F4-LE',\n",
       "  'EEG C3-LE',\n",
       "  'EEG C4-LE',\n",
       "  'EEG A1-LE',\n",
       "  'EEG A2-LE',\n",
       "  'EEG P3-LE',\n",
       "  'EEG P4-LE',\n",
       "  'EEG O1-LE',\n",
       "  'EEG O2-LE',\n",
       "  'EEG F7-LE',\n",
       "  'EEG F8-LE',\n",
       "  'EEG T3-LE',\n",
       "  'EEG T4-LE',\n",
       "  'EEG T5-LE',\n",
       "  'EEG T6-LE',\n",
       "  'EEG FZ-LE',\n",
       "  'EEG CZ-LE',\n",
       "  'EEG PZ-LE',\n",
       "  'EEG OZ-LE',\n",
       "  'EEG PG1-LE',\n",
       "  'EEG PG2-LE',\n",
       "  'EEG EKG-LE',\n",
       "  'EEG SP2-LE',\n",
       "  'EEG SP1-LE',\n",
       "  'EEG RLC-LE',\n",
       "  'EEG LUC-LE',\n",
       "  'EEG 30-LE',\n",
       "  'EEG T1-LE',\n",
       "  'EEG T2-LE',\n",
       "  'STI 014'],\n",
       " [['0.0000', '352.0000', 'bckg']])"
      ]
     },
     "execution_count": 16,
     "metadata": {},
     "output_type": "execute_result"
    }
   ],
   "source": [
    "f"
   ]
  },
  {
   "cell_type": "code",
   "execution_count": 58,
   "metadata": {
    "collapsed": false
   },
   "outputs": [
    {
     "data": {
      "text/plain": [
       "[['0.0000', '1273.4520', 'bckg'],\n",
       " ['1273.4520', '1319.1880', 'cpsz'],\n",
       " ['1319.1880', '1992.0000', 'bckg']]"
      ]
     },
     "execution_count": 58,
     "metadata": {},
     "output_type": "execute_result"
    }
   ],
   "source": [
    "getLabelAndTimeStartAndEnd(segLabelFilenames[p]+\".tse\")"
   ]
  },
  {
   "cell_type": "code",
   "execution_count": 17,
   "metadata": {
    "collapsed": false
   },
   "outputs": [
    {
     "data": {
      "text/plain": [
       "352.0"
      ]
     },
     "execution_count": 17,
     "metadata": {},
     "output_type": "execute_result"
    }
   ],
   "source": [
    "88000/250"
   ]
  },
  {
   "cell_type": "code",
   "execution_count": null,
   "metadata": {
    "collapsed": true
   },
   "outputs": [],
   "source": []
  }
 ],
 "metadata": {
  "anaconda-cloud": {},
  "kernelspec": {
   "display_name": "Python [conda env:mne]",
   "language": "python",
   "name": "conda-env-mne-py"
  },
  "language_info": {
   "codemirror_mode": {
    "name": "ipython",
    "version": 3
   },
   "file_extension": ".py",
   "mimetype": "text/x-python",
   "name": "python",
   "nbconvert_exporter": "python",
   "pygments_lexer": "ipython3",
   "version": "3.6.8"
  }
 },
 "nbformat": 4,
 "nbformat_minor": 2
}
