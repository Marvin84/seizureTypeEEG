{
 "cells": [
  {
   "cell_type": "code",
   "execution_count": 3,
   "metadata": {},
   "outputs": [],
   "source": [
    "from glob import glob\n",
    "import numpy as np\n",
    "import pandas as pd\n",
    "import csv\n",
    "import math\n",
    "from sklearn.svm import SVC\n",
    "from sklearn.model_selection import cross_val_score\n",
    "from sklearn.metrics import f1_score, accuracy_score\n",
    "from sklearn.preprocessing import StandardScaler, MinMaxScaler\n",
    "from sklearn.model_selection import GridSearchCV\n",
    "from sklearn.tree import DecisionTreeClassifier\n",
    "from sklearn.ensemble import RandomForestClassifier, GradientBoostingClassifier, AdaBoostClassifier, VotingClassifier\n",
    "\n"
   ]
  },
  {
   "cell_type": "code",
   "execution_count": 67,
   "metadata": {},
   "outputs": [
    {
     "name": "stdout",
     "output_type": "stream",
     "text": [
      "7\n"
     ]
    }
   ],
   "source": [
    "preP = \"oldCSVs/trainData-badChan/\"\n",
    "files = glob(preP+'*.csv')\n",
    "print(len(files))\n",
    "trainCsv = pd.concat( [ pd.read_csv(f) for f in files ] )\n",
    "\n",
    "#combined_csv = trainCsv\n",
    "\n",
    "combined_csv = trainCsv.query(\"label in ['absz', 'tcsz', 'tnsz', 'gnsz', 'cpsz', 'fnsz', 'spsz']\")\n",
    "combined_csv.to_csv(\"data-train-90.csv\", index=False )\n"
   ]
  },
  {
   "cell_type": "code",
   "execution_count": 68,
   "metadata": {},
   "outputs": [
    {
     "name": "stdout",
     "output_type": "stream",
     "text": [
      "7\n"
     ]
    }
   ],
   "source": [
    "preP2 = \"oldCSVs/testData-badChan/\"\n",
    "files2 = glob(preP2+'*.csv')\n",
    "print(len(files2))\n",
    "testCsv = pd.concat( [ pd.read_csv(f) for f in files2] )\n",
    "\n",
    "#combined_csv2 = testCsv\n",
    "combined_csv2 = testCsv.query(\"label in ['absz', 'tcsz', 'tnsz', 'gnsz', 'cpsz', 'fnsz', 'spsz']\")\n",
    "combined_csv2.to_csv(\"data-test-90.csv\", index=False )\n",
    "\n",
    "\n"
   ]
  },
  {
   "cell_type": "code",
   "execution_count": 4,
   "metadata": {},
   "outputs": [
    {
     "name": "stdout",
     "output_type": "stream",
     "text": [
      "18\n"
     ]
    }
   ],
   "source": [
    "preP2 = \"bestData/\"\n",
    "files2 = glob(preP2+'*/*.csv')\n",
    "print(len(files2))\n",
    "testCsv = pd.concat( [ pd.read_csv(f) for f in files2] )\n",
    "\n",
    "#combined_csv2 = testCsv\n",
    "combined_csv2 = testCsv.query(\"label in ['tnsz', 'gnsz', 'fnsz', 'spsz']\")\n",
    "combined_csv2.to_csv(\"all4.csv\", index=False )\n",
    "\n",
    "\n"
   ]
  },
  {
   "cell_type": "code",
   "execution_count": 4,
   "metadata": {},
   "outputs": [],
   "source": [
    "combined_csv.to_csv(\"trainNom.csv\", index=False )\n",
    "combined_csv2.to_csv(\"testNom.csv\", index=False )"
   ]
  },
  {
   "cell_type": "code",
   "execution_count": 69,
   "metadata": {},
   "outputs": [],
   "source": [
    "dataset = np.array(combined_csv.values.tolist())\n",
    "labels = dataset[:,-1]\n",
    "xTrain = dataset[:,:-1]\n",
    "\n",
    "Ls = list(set(labels))\n",
    "mappedLabels = [Ls.index(i) for i in list(labels)]"
   ]
  },
  {
   "cell_type": "code",
   "execution_count": 6,
   "metadata": {},
   "outputs": [
    {
     "data": {
      "text/plain": [
       "(623, 1920)"
      ]
     },
     "execution_count": 6,
     "metadata": {},
     "output_type": "execute_result"
    }
   ],
   "source": [
    "combined_csv2.shape"
   ]
  },
  {
   "cell_type": "code",
   "execution_count": 70,
   "metadata": {},
   "outputs": [],
   "source": [
    "testset = np.array(combined_csv2.values.tolist())\n",
    "testLabels = testset[:,-1]\n",
    "xTest = testset[:,:-1]\n",
    "mappedTestLabels = [Ls.index(i) for i in list(testLabels)]\n"
   ]
  },
  {
   "cell_type": "code",
   "execution_count": 8,
   "metadata": {},
   "outputs": [],
   "source": [
    "countsTrain = [mappedLabels.count(i) for i in list(range(len(Ls)))]\n",
    "countsTest = [mappedTestLabels.count(i) for i in list(range(len(Ls)))]\n",
    "#countPredicted = [list(predicted).count(i) for i in list(range(len(Ls)))]\n"
   ]
  },
  {
   "cell_type": "code",
   "execution_count": 71,
   "metadata": {},
   "outputs": [],
   "source": [
    "trainScaler = MinMaxScaler(feature_range=(-1, 1))\n",
    "trainScaler.fit(xTrain)\n",
    "xTrain = trainScaler.transform(xTrain)\n",
    "finalTestX = trainScaler.transform(xTest)\n",
    "\n",
    "X_train = xTrain\n",
    "Y_train = mappedLabels\n",
    "\n",
    "X_test = finalTestX\n",
    "Y_test = mappedTestLabels"
   ]
  },
  {
   "cell_type": "code",
   "execution_count": 9,
   "metadata": {},
   "outputs": [
    {
     "data": {
      "text/plain": [
       "['gnsz', 'tcsz', 'spsz', 'cpsz', 'fnsz', 'tnsz', 'absz']"
      ]
     },
     "execution_count": 9,
     "metadata": {},
     "output_type": "execute_result"
    }
   ],
   "source": [
    "Ls"
   ]
  },
  {
   "cell_type": "code",
   "execution_count": 10,
   "metadata": {},
   "outputs": [
    {
     "data": {
      "text/plain": [
       "837"
      ]
     },
     "execution_count": 10,
     "metadata": {},
     "output_type": "execute_result"
    }
   ],
   "source": [
    "np.sum(countsTrain)"
   ]
  },
  {
   "cell_type": "code",
   "execution_count": 11,
   "metadata": {},
   "outputs": [
    {
     "data": {
      "text/plain": [
       "[210, 25, 41, 135, 359, 17, 50]"
      ]
     },
     "execution_count": 11,
     "metadata": {},
     "output_type": "execute_result"
    }
   ],
   "source": [
    "countsTrain"
   ]
  },
  {
   "cell_type": "code",
   "execution_count": 12,
   "metadata": {},
   "outputs": [
    {
     "data": {
      "text/plain": [
       "623"
      ]
     },
     "execution_count": 12,
     "metadata": {},
     "output_type": "execute_result"
    }
   ],
   "source": [
    "np.sum(countsTest)"
   ]
  },
  {
   "cell_type": "code",
   "execution_count": 13,
   "metadata": {},
   "outputs": [
    {
     "ename": "NameError",
     "evalue": "name 'countPredicted' is not defined",
     "output_type": "error",
     "traceback": [
      "\u001b[0;31m---------------------------------------------------------------------------\u001b[0m",
      "\u001b[0;31mNameError\u001b[0m                                 Traceback (most recent call last)",
      "\u001b[0;32m<ipython-input-13-0eec45acc9df>\u001b[0m in \u001b[0;36m<module>\u001b[0;34m\u001b[0m\n\u001b[0;32m----> 1\u001b[0;31m \u001b[0mcountPredicted\u001b[0m\u001b[0;34m\u001b[0m\u001b[0;34m\u001b[0m\u001b[0m\n\u001b[0m",
      "\u001b[0;31mNameError\u001b[0m: name 'countPredicted' is not defined"
     ]
    }
   ],
   "source": [
    "countPredicted"
   ]
  },
  {
   "cell_type": "code",
   "execution_count": 7,
   "metadata": {},
   "outputs": [
    {
     "data": {
      "text/plain": [
       "(658, 1920)"
      ]
     },
     "execution_count": 7,
     "metadata": {},
     "output_type": "execute_result"
    }
   ],
   "source": [
    "testset.shape"
   ]
  },
  {
   "cell_type": "code",
   "execution_count": 14,
   "metadata": {
    "scrolled": false
   },
   "outputs": [
    {
     "name": "stdout",
     "output_type": "stream",
     "text": [
      "[LibSVM]"
     ]
    }
   ],
   "source": [
    "\n",
    "def get_my_best_estimator(X, y, folds):\n",
    "\n",
    "    params_grid = [{\n",
    "        'C': [2**i for i in range(-5, 3)],\n",
    "        'gamma': [2**i for i in range(-6, 2)]}]\n",
    "    gs = GridSearchCV(SVC(), params_grid, n_jobs=2, cv=folds)\n",
    "    gs.fit(X, y)\n",
    "    best_estimator = gs.best_estimator_\n",
    "    return best_estimator\n",
    "\n",
    "\n",
    "\n",
    "trainScaler = MinMaxScaler(feature_range=(-1, 1))\n",
    "trainScaler.fit(xTrain)\n",
    "xTrain = trainScaler.transform(xTrain)\n",
    "finalTestX = trainScaler.transform(xTest)\n",
    "\n",
    "X_train = xTrain\n",
    "Y_train = mappedLabels\n",
    "\n",
    "X_test = finalTestX\n",
    "Y_test = mappedTestLabels\n",
    "\n",
    "\n",
    "\n",
    "bestEstimator = get_my_best_estimator(X_train, Y_train, 5)\n",
    "bestC = bestEstimator.C#2.0 #bestEstimator.C\n",
    "bestGamma = bestEstimator.gamma #0.03125 #bestEstimator.gamma\n",
    "\n",
    "modelRbf = SVC(C=bestC , gamma=bestGamma, kernel='rbf', verbose=True, class_weight='balanced').fit(X_train, Y_train)\n"
   ]
  },
  {
   "cell_type": "code",
   "execution_count": 79,
   "metadata": {},
   "outputs": [
    {
     "data": {
      "text/plain": [
       "[0.000244140625,\n",
       " 0.00048828125,\n",
       " 0.0009765625,\n",
       " 0.001953125,\n",
       " 0.00390625,\n",
       " 0.0078125,\n",
       " 0.015625,\n",
       " 0.03125,\n",
       " 0.0625,\n",
       " 0.125,\n",
       " 0.25,\n",
       " 0.5,\n",
       " 1,\n",
       " 2,\n",
       " 4,\n",
       " 8]"
      ]
     },
     "execution_count": 79,
     "metadata": {},
     "output_type": "execute_result"
    }
   ],
   "source": [
    "[2**i for i in range(-12, 4)]"
   ]
  },
  {
   "cell_type": "code",
   "execution_count": 1,
   "metadata": {},
   "outputs": [
    {
     "ename": "NameError",
     "evalue": "name 'SVC' is not defined",
     "output_type": "error",
     "traceback": [
      "\u001b[0;31m---------------------------------------------------------------------------\u001b[0m",
      "\u001b[0;31mNameError\u001b[0m                                 Traceback (most recent call last)",
      "\u001b[0;32m<ipython-input-1-e4e8dfc7340a>\u001b[0m in \u001b[0;36m<module>\u001b[0;34m\u001b[0m\n\u001b[0;32m----> 1\u001b[0;31m modelRbf = SVC(C=0.00244140625,\n\u001b[0m\u001b[1;32m      2\u001b[0m                \u001b[0mkernel\u001b[0m\u001b[0;34m=\u001b[0m\u001b[0;34m'linear'\u001b[0m\u001b[0;34m,\u001b[0m\u001b[0;34m\u001b[0m\u001b[0;34m\u001b[0m\u001b[0m\n\u001b[1;32m      3\u001b[0m                \u001b[0mdecision_function_shape\u001b[0m\u001b[0;34m=\u001b[0m\u001b[0;34m\"ovr\"\u001b[0m\u001b[0;34m,\u001b[0m\u001b[0;34m\u001b[0m\u001b[0;34m\u001b[0m\u001b[0m\n\u001b[1;32m      4\u001b[0m                 \u001b[0mclass_weight\u001b[0m\u001b[0;34m=\u001b[0m\u001b[0;34m'balanced'\u001b[0m\u001b[0;34m,\u001b[0m\u001b[0;34m\u001b[0m\u001b[0;34m\u001b[0m\u001b[0m\n\u001b[1;32m      5\u001b[0m                verbose=True).fit(X_train, Y_train)\n",
      "\u001b[0;31mNameError\u001b[0m: name 'SVC' is not defined"
     ]
    }
   ],
   "source": [
    "modelRbf = SVC(C=0.00244140625,\n",
    "               kernel='linear',\n",
    "               decision_function_shape=\"ovr\",\n",
    "                class_weight='balanced',\n",
    "               verbose=True).fit(X_train, Y_train)\n",
    "\n",
    "#predicted = modelRbf.predict(finalTestX)\n",
    "#f1_score(mappedTestLabels, predicted, average=\"weighted\")\n",
    "\n",
    "scores = cross_val_score(modelForest, X_train, Y_train, cv=5)\n",
    "np.mean(scores)"
   ]
  },
  {
   "cell_type": "code",
   "execution_count": 74,
   "metadata": {},
   "outputs": [
    {
     "data": {
      "text/plain": [
       "0.522307076926858"
      ]
     },
     "execution_count": 74,
     "metadata": {},
     "output_type": "execute_result"
    }
   ],
   "source": [
    "f1_score(mappedTestLabels, predicted, average=\"weighted\")"
   ]
  },
  {
   "cell_type": "code",
   "execution_count": 51,
   "metadata": {},
   "outputs": [
    {
     "name": "stdout",
     "output_type": "stream",
     "text": [
      "[LibSVM]"
     ]
    },
    {
     "data": {
      "text/plain": [
       "0.6243980738362761"
      ]
     },
     "execution_count": 51,
     "metadata": {},
     "output_type": "execute_result"
    }
   ],
   "source": [
    "modelRbf = SVC(C=11,\n",
    "               kernel='poly',\n",
    "               decision_function_shape=\"ovr\",\n",
    "               verbose=True).fit(X_train, Y_train)\n",
    "\n",
    "predicted = modelRbf.predict(finalTestX)\n",
    "f1_score(mappedTestLabels, predicted, average=\"micro\")"
   ]
  },
  {
   "cell_type": "code",
   "execution_count": 26,
   "metadata": {},
   "outputs": [
    {
     "name": "stdout",
     "output_type": "stream",
     "text": [
      "[LibSVM][LibSVM][LibSVM][LibSVM][LibSVM]"
     ]
    },
    {
     "data": {
      "text/plain": [
       "0.7109780439121757"
      ]
     },
     "execution_count": 26,
     "metadata": {},
     "output_type": "execute_result"
    }
   ],
   "source": [
    "scores = cross_val_score(modelRbf, X_train, Y_train, cv=5)\n",
    "np.mean(scores)"
   ]
  },
  {
   "cell_type": "code",
   "execution_count": 23,
   "metadata": {},
   "outputs": [
    {
     "data": {
      "text/plain": [
       "0.5613930332498083"
      ]
     },
     "execution_count": 23,
     "metadata": {},
     "output_type": "execute_result"
    }
   ],
   "source": [
    "predicted = modelRbf.predict(finalTestX)\n",
    "f1_score(mappedTestLabels, predicted, average=\"weighted\")\n",
    "#accuracy_score(mappedTestLabels,predicted )"
   ]
  },
  {
   "cell_type": "code",
   "execution_count": 17,
   "metadata": {},
   "outputs": [
    {
     "name": "stdout",
     "output_type": "stream",
     "text": [
      "Fitting 10 folds for each of 112 candidates, totalling 1120 fits\n"
     ]
    },
    {
     "name": "stderr",
     "output_type": "stream",
     "text": [
      "[Parallel(n_jobs=-1)]: Using backend LokyBackend with 4 concurrent workers.\n",
      "[Parallel(n_jobs=-1)]: Done  42 tasks      | elapsed:   35.2s\n",
      "[Parallel(n_jobs=-1)]: Done 192 tasks      | elapsed:  1.8min\n",
      "[Parallel(n_jobs=-1)]: Done 442 tasks      | elapsed:  4.7min\n",
      "[Parallel(n_jobs=-1)]: Done 792 tasks      | elapsed:  7.2min\n",
      "[Parallel(n_jobs=-1)]: Done 1120 out of 1120 | elapsed: 10.7min finished\n"
     ]
    }
   ],
   "source": [
    "DTC = DecisionTreeClassifier()\n",
    "\n",
    "adaDTC = AdaBoostClassifier(DTC, random_state=7)\n",
    "\n",
    "ada_param_grid = {\"base_estimator__criterion\" : [\"gini\", \"entropy\"],\n",
    "              \"base_estimator__splitter\" :   [\"best\", \"random\"],\n",
    "              \"algorithm\" : [\"SAMME\",\"SAMME.R\"],\n",
    "              \"n_estimators\" :[1,2],\n",
    "              \"learning_rate\":  [0.0001, 0.001, 0.01, 0.1, 0.2, 0.3,1.5]}\n",
    "\n",
    "gsadaDTC = GridSearchCV(adaDTC,param_grid = ada_param_grid, cv=10, scoring=\"f1_weighted\", n_jobs=-1, verbose = 1)\n",
    "\n",
    "gsadaDTC.fit(X_train,Y_train)\n",
    "\n",
    "ada_best = gsadaDTC.best_estimator_"
   ]
  },
  {
   "cell_type": "code",
   "execution_count": 18,
   "metadata": {},
   "outputs": [
    {
     "data": {
      "text/plain": [
       "0.4705171518958581"
      ]
     },
     "execution_count": 18,
     "metadata": {},
     "output_type": "execute_result"
    }
   ],
   "source": [
    "modelForest = ada_best.fit(X_train,Y_train)\n",
    "\n",
    "scores = cross_val_score(modelForest, X_train, Y_train, cv=10)\n",
    "np.mean(scores)\n",
    "\n",
    "predicted = modelForest.predict(finalTestX)\n",
    "f1_score(mappedTestLabels, predicted, average=\"weighted\")"
   ]
  },
  {
   "cell_type": "code",
   "execution_count": 67,
   "metadata": {},
   "outputs": [],
   "source": [
    "fImp = list(ada_best.feature_importances_)"
   ]
  },
  {
   "cell_type": "code",
   "execution_count": 68,
   "metadata": {},
   "outputs": [],
   "source": [
    "featuresInd = np.argsort(fImp)"
   ]
  },
  {
   "cell_type": "code",
   "execution_count": 69,
   "metadata": {},
   "outputs": [],
   "source": [
    "features= np.sort(fImp)"
   ]
  },
  {
   "cell_type": "code",
   "execution_count": 71,
   "metadata": {},
   "outputs": [
    {
     "data": {
      "text/plain": [
       "array([0.00000000e+00, 0.00000000e+00, 0.00000000e+00, 0.00000000e+00,\n",
       "       0.00000000e+00, 0.00000000e+00, 0.00000000e+00, 0.00000000e+00,\n",
       "       0.00000000e+00, 0.00000000e+00, 2.82039500e-18, 4.93569126e-18,\n",
       "       5.64079001e-18, 5.64079001e-18, 7.75608626e-18, 3.17548247e-03,\n",
       "       3.17548247e-03, 3.17548247e-03, 3.70472955e-03, 3.94092730e-03,\n",
       "       4.13316766e-03, 4.15409028e-03, 4.19927190e-03, 4.20497679e-03,\n",
       "       6.53498583e-03, 6.77436260e-03, 7.23555445e-03, 7.40945910e-03,\n",
       "       8.17251193e-03, 8.59703791e-03, 9.98008777e-03, 1.00909776e-02,\n",
       "       1.01615439e-02, 1.06963620e-02, 1.07947139e-02, 1.15472090e-02,\n",
       "       1.25642184e-02, 1.27411334e-02, 1.38007476e-02, 1.48189182e-02,\n",
       "       1.50139040e-02, 1.79815428e-02, 1.87277806e-02, 2.49131685e-02,\n",
       "       3.17969575e-02, 3.34828192e-02, 3.49292174e-02, 3.79365793e-02,\n",
       "       3.89063939e-02, 4.68861312e-02, 4.98277733e-02, 5.01247195e-02,\n",
       "       6.21543851e-02, 1.19486100e-01, 2.22049093e-01])"
      ]
     },
     "execution_count": 71,
     "metadata": {},
     "output_type": "execute_result"
    }
   ],
   "source": [
    "features[1864:]"
   ]
  },
  {
   "cell_type": "code",
   "execution_count": 56,
   "metadata": {},
   "outputs": [],
   "source": [
    "impF = featuresInd[1874:]"
   ]
  },
  {
   "cell_type": "code",
   "execution_count": 58,
   "metadata": {},
   "outputs": [
    {
     "data": {
      "text/plain": [
       "1915"
      ]
     },
     "execution_count": 58,
     "metadata": {},
     "output_type": "execute_result"
    }
   ],
   "source": [
    "np.max(impF)"
   ]
  },
  {
   "cell_type": "code",
   "execution_count": 59,
   "metadata": {},
   "outputs": [
    {
     "data": {
      "text/plain": [
       "array([1500, 1269,  246,  140,  423,  849,  654, 1032,  873, 1233, 1808,\n",
       "       1702, 1761, 1517, 1719,  369,   90, 1675, 1816, 1240, 1527, 1867,\n",
       "       1304, 1723, 1135,  943,   94,  448, 1590, 1333, 1915,   46,  470,\n",
       "       1572,  656,  712, 1440,  966, 1857, 1854,  525, 1753, 1724, 1396,\n",
       "       1456])"
      ]
     },
     "execution_count": 59,
     "metadata": {},
     "output_type": "execute_result"
    }
   ],
   "source": [
    "impF"
   ]
  },
  {
   "cell_type": "code",
   "execution_count": null,
   "metadata": {},
   "outputs": [],
   "source": [
    "dataset = np.array(combined_csv.values.tolist())\n",
    "labels = dataset[:,-1]\n",
    "xTrain = dataset[:,:-1]\n",
    "\n",
    "Ls = list(set(labels))\n",
    "mappedLabels = [Ls.index(i) for i in list(labels)]"
   ]
  },
  {
   "cell_type": "code",
   "execution_count": 69,
   "metadata": {},
   "outputs": [
    {
     "data": {
      "text/plain": [
       "(658, 1920)"
      ]
     },
     "execution_count": 69,
     "metadata": {},
     "output_type": "execute_result"
    }
   ],
   "source": [
    "dataset.shape"
   ]
  },
  {
   "cell_type": "code",
   "execution_count": 61,
   "metadata": {},
   "outputs": [],
   "source": [
    "bestTrain = combined_csv.iloc[:,list(impF)+[1919]]\n",
    "bestTest = combined_csv2.iloc[:,list(impF)+[1919]]"
   ]
  },
  {
   "cell_type": "code",
   "execution_count": 62,
   "metadata": {},
   "outputs": [
    {
     "data": {
      "text/html": [
       "<div>\n",
       "<style scoped>\n",
       "    .dataframe tbody tr th:only-of-type {\n",
       "        vertical-align: middle;\n",
       "    }\n",
       "\n",
       "    .dataframe tbody tr th {\n",
       "        vertical-align: top;\n",
       "    }\n",
       "\n",
       "    .dataframe thead th {\n",
       "        text-align: right;\n",
       "    }\n",
       "</style>\n",
       "<table border=\"1\" class=\"dataframe\">\n",
       "  <thead>\n",
       "    <tr style=\"text-align: right;\">\n",
       "      <th></th>\n",
       "      <th>fft_std_30-60Hz_T6</th>\n",
       "      <th>fft_ptp_8-12Hz_T3</th>\n",
       "      <th>fft_energy_18-24Hz_T6</th>\n",
       "      <th>fft_boundedvariation_60-90Hz_FP1</th>\n",
       "      <th>fft_entropy_30-60Hz_F7</th>\n",
       "      <th>fft_median_18-24Hz_P4</th>\n",
       "      <th>fft_mean_8-12Hz_FP2</th>\n",
       "      <th>fft_min_30-60Hz_F8</th>\n",
       "      <th>fft_median_24-30Hz_T6</th>\n",
       "      <th>fft_ptp_1-4Hz_T5</th>\n",
       "      <th>...</th>\n",
       "      <th>fft_std_12-18Hz_T3</th>\n",
       "      <th>fft_min_8-12Hz_T4</th>\n",
       "      <th>time_nonlinenergy_PZ</th>\n",
       "      <th>time_nonlinenergy_O2</th>\n",
       "      <th>fft_max_12-18Hz_P3</th>\n",
       "      <th>time_max_F7</th>\n",
       "      <th>time_fractaldim_PZ</th>\n",
       "      <th>fft_std_4-8Hz_FZ</th>\n",
       "      <th>fft_std_18-24Hz_P3</th>\n",
       "      <th>label</th>\n",
       "    </tr>\n",
       "  </thead>\n",
       "  <tbody>\n",
       "    <tr>\n",
       "      <th>0</th>\n",
       "      <td>110.038351</td>\n",
       "      <td>2337.612664</td>\n",
       "      <td>5.349235e+05</td>\n",
       "      <td>8.637547</td>\n",
       "      <td>-7.262107e+07</td>\n",
       "      <td>791.159856</td>\n",
       "      <td>3083.456937</td>\n",
       "      <td>67.184933</td>\n",
       "      <td>316.579417</td>\n",
       "      <td>9739.807456</td>\n",
       "      <td>...</td>\n",
       "      <td>561.057420</td>\n",
       "      <td>541.369149</td>\n",
       "      <td>539.199937</td>\n",
       "      <td>419.069166</td>\n",
       "      <td>3047.561061</td>\n",
       "      <td>302.235577</td>\n",
       "      <td>1.248265</td>\n",
       "      <td>5598.659455</td>\n",
       "      <td>427.785982</td>\n",
       "      <td>absz</td>\n",
       "    </tr>\n",
       "    <tr>\n",
       "      <th>1</th>\n",
       "      <td>129.454993</td>\n",
       "      <td>2986.852023</td>\n",
       "      <td>6.617390e+05</td>\n",
       "      <td>8.119807</td>\n",
       "      <td>-1.209839e+08</td>\n",
       "      <td>819.779504</td>\n",
       "      <td>4729.075337</td>\n",
       "      <td>20.514574</td>\n",
       "      <td>287.548800</td>\n",
       "      <td>8717.347184</td>\n",
       "      <td>...</td>\n",
       "      <td>748.661018</td>\n",
       "      <td>591.408319</td>\n",
       "      <td>705.317428</td>\n",
       "      <td>546.995675</td>\n",
       "      <td>3077.296844</td>\n",
       "      <td>254.457231</td>\n",
       "      <td>1.362856</td>\n",
       "      <td>5346.742763</td>\n",
       "      <td>464.400458</td>\n",
       "      <td>absz</td>\n",
       "    </tr>\n",
       "    <tr>\n",
       "      <th>2</th>\n",
       "      <td>129.465008</td>\n",
       "      <td>2661.424113</td>\n",
       "      <td>9.974846e+05</td>\n",
       "      <td>9.546365</td>\n",
       "      <td>-9.981389e+07</td>\n",
       "      <td>845.536461</td>\n",
       "      <td>3514.132552</td>\n",
       "      <td>72.380508</td>\n",
       "      <td>294.373116</td>\n",
       "      <td>11856.395026</td>\n",
       "      <td>...</td>\n",
       "      <td>615.721468</td>\n",
       "      <td>525.590413</td>\n",
       "      <td>586.937937</td>\n",
       "      <td>541.459340</td>\n",
       "      <td>2625.085746</td>\n",
       "      <td>235.250058</td>\n",
       "      <td>1.313786</td>\n",
       "      <td>3599.283487</td>\n",
       "      <td>414.106401</td>\n",
       "      <td>absz</td>\n",
       "    </tr>\n",
       "    <tr>\n",
       "      <th>3</th>\n",
       "      <td>158.101692</td>\n",
       "      <td>2255.845088</td>\n",
       "      <td>1.539570e+06</td>\n",
       "      <td>8.531317</td>\n",
       "      <td>-1.203307e+08</td>\n",
       "      <td>1123.132611</td>\n",
       "      <td>5661.177234</td>\n",
       "      <td>28.753059</td>\n",
       "      <td>361.529836</td>\n",
       "      <td>8740.635365</td>\n",
       "      <td>...</td>\n",
       "      <td>869.944993</td>\n",
       "      <td>418.923620</td>\n",
       "      <td>1606.243130</td>\n",
       "      <td>1989.245101</td>\n",
       "      <td>4962.193551</td>\n",
       "      <td>289.004419</td>\n",
       "      <td>1.355841</td>\n",
       "      <td>5331.876739</td>\n",
       "      <td>635.495292</td>\n",
       "      <td>absz</td>\n",
       "    </tr>\n",
       "    <tr>\n",
       "      <th>4</th>\n",
       "      <td>151.237459</td>\n",
       "      <td>3039.426057</td>\n",
       "      <td>1.379146e+06</td>\n",
       "      <td>9.269653</td>\n",
       "      <td>-1.249359e+08</td>\n",
       "      <td>1391.190480</td>\n",
       "      <td>5206.514706</td>\n",
       "      <td>61.143013</td>\n",
       "      <td>349.504314</td>\n",
       "      <td>8885.465547</td>\n",
       "      <td>...</td>\n",
       "      <td>987.384502</td>\n",
       "      <td>457.964697</td>\n",
       "      <td>1620.363676</td>\n",
       "      <td>1804.078269</td>\n",
       "      <td>4539.825409</td>\n",
       "      <td>280.709465</td>\n",
       "      <td>1.369368</td>\n",
       "      <td>4657.375614</td>\n",
       "      <td>588.474430</td>\n",
       "      <td>absz</td>\n",
       "    </tr>\n",
       "    <tr>\n",
       "      <th>...</th>\n",
       "      <td>...</td>\n",
       "      <td>...</td>\n",
       "      <td>...</td>\n",
       "      <td>...</td>\n",
       "      <td>...</td>\n",
       "      <td>...</td>\n",
       "      <td>...</td>\n",
       "      <td>...</td>\n",
       "      <td>...</td>\n",
       "      <td>...</td>\n",
       "      <td>...</td>\n",
       "      <td>...</td>\n",
       "      <td>...</td>\n",
       "      <td>...</td>\n",
       "      <td>...</td>\n",
       "      <td>...</td>\n",
       "      <td>...</td>\n",
       "      <td>...</td>\n",
       "      <td>...</td>\n",
       "      <td>...</td>\n",
       "      <td>...</td>\n",
       "    </tr>\n",
       "    <tr>\n",
       "      <th>228</th>\n",
       "      <td>24.655353</td>\n",
       "      <td>759.703480</td>\n",
       "      <td>3.408605e+04</td>\n",
       "      <td>8.925087</td>\n",
       "      <td>-1.892839e+06</td>\n",
       "      <td>144.459941</td>\n",
       "      <td>507.001346</td>\n",
       "      <td>10.323467</td>\n",
       "      <td>52.970514</td>\n",
       "      <td>2151.845021</td>\n",
       "      <td>...</td>\n",
       "      <td>121.101126</td>\n",
       "      <td>119.812028</td>\n",
       "      <td>29.158889</td>\n",
       "      <td>23.106346</td>\n",
       "      <td>675.202532</td>\n",
       "      <td>52.987041</td>\n",
       "      <td>1.535718</td>\n",
       "      <td>776.998179</td>\n",
       "      <td>105.740226</td>\n",
       "      <td>cpsz</td>\n",
       "    </tr>\n",
       "    <tr>\n",
       "      <th>229</th>\n",
       "      <td>23.135281</td>\n",
       "      <td>860.432207</td>\n",
       "      <td>3.091248e+04</td>\n",
       "      <td>8.917918</td>\n",
       "      <td>-2.248918e+06</td>\n",
       "      <td>145.997280</td>\n",
       "      <td>545.821967</td>\n",
       "      <td>8.798377</td>\n",
       "      <td>46.920243</td>\n",
       "      <td>1783.823197</td>\n",
       "      <td>...</td>\n",
       "      <td>136.640033</td>\n",
       "      <td>89.929126</td>\n",
       "      <td>29.515237</td>\n",
       "      <td>23.935456</td>\n",
       "      <td>687.584199</td>\n",
       "      <td>56.284304</td>\n",
       "      <td>1.538552</td>\n",
       "      <td>842.372795</td>\n",
       "      <td>96.542610</td>\n",
       "      <td>cpsz</td>\n",
       "    </tr>\n",
       "    <tr>\n",
       "      <th>230</th>\n",
       "      <td>23.350507</td>\n",
       "      <td>753.450985</td>\n",
       "      <td>3.583379e+04</td>\n",
       "      <td>9.299823</td>\n",
       "      <td>-1.361344e+06</td>\n",
       "      <td>162.571697</td>\n",
       "      <td>540.809174</td>\n",
       "      <td>10.145743</td>\n",
       "      <td>47.177228</td>\n",
       "      <td>1848.670836</td>\n",
       "      <td>...</td>\n",
       "      <td>137.643436</td>\n",
       "      <td>101.433808</td>\n",
       "      <td>30.990496</td>\n",
       "      <td>25.028742</td>\n",
       "      <td>655.229249</td>\n",
       "      <td>45.017005</td>\n",
       "      <td>1.563848</td>\n",
       "      <td>660.762800</td>\n",
       "      <td>112.817761</td>\n",
       "      <td>cpsz</td>\n",
       "    </tr>\n",
       "    <tr>\n",
       "      <th>231</th>\n",
       "      <td>23.050229</td>\n",
       "      <td>686.812568</td>\n",
       "      <td>2.783798e+04</td>\n",
       "      <td>8.701862</td>\n",
       "      <td>-1.768292e+06</td>\n",
       "      <td>146.669663</td>\n",
       "      <td>509.190121</td>\n",
       "      <td>8.859476</td>\n",
       "      <td>52.441745</td>\n",
       "      <td>2200.179896</td>\n",
       "      <td>...</td>\n",
       "      <td>119.666873</td>\n",
       "      <td>113.106454</td>\n",
       "      <td>26.066615</td>\n",
       "      <td>19.589126</td>\n",
       "      <td>613.349206</td>\n",
       "      <td>48.154839</td>\n",
       "      <td>1.524002</td>\n",
       "      <td>826.145813</td>\n",
       "      <td>102.859281</td>\n",
       "      <td>cpsz</td>\n",
       "    </tr>\n",
       "    <tr>\n",
       "      <th>232</th>\n",
       "      <td>26.595666</td>\n",
       "      <td>764.515473</td>\n",
       "      <td>4.323302e+04</td>\n",
       "      <td>8.324725</td>\n",
       "      <td>-1.311494e+06</td>\n",
       "      <td>168.693282</td>\n",
       "      <td>545.749173</td>\n",
       "      <td>10.736045</td>\n",
       "      <td>57.710927</td>\n",
       "      <td>1435.164108</td>\n",
       "      <td>...</td>\n",
       "      <td>137.425011</td>\n",
       "      <td>124.487757</td>\n",
       "      <td>32.014269</td>\n",
       "      <td>26.490093</td>\n",
       "      <td>622.670557</td>\n",
       "      <td>51.255410</td>\n",
       "      <td>1.535389</td>\n",
       "      <td>729.411591</td>\n",
       "      <td>118.721709</td>\n",
       "      <td>cpsz</td>\n",
       "    </tr>\n",
       "  </tbody>\n",
       "</table>\n",
       "<p>921 rows × 46 columns</p>\n",
       "</div>"
      ],
      "text/plain": [
       "     fft_std_30-60Hz_T6  fft_ptp_8-12Hz_T3  fft_energy_18-24Hz_T6  \\\n",
       "0            110.038351        2337.612664           5.349235e+05   \n",
       "1            129.454993        2986.852023           6.617390e+05   \n",
       "2            129.465008        2661.424113           9.974846e+05   \n",
       "3            158.101692        2255.845088           1.539570e+06   \n",
       "4            151.237459        3039.426057           1.379146e+06   \n",
       "..                  ...                ...                    ...   \n",
       "228           24.655353         759.703480           3.408605e+04   \n",
       "229           23.135281         860.432207           3.091248e+04   \n",
       "230           23.350507         753.450985           3.583379e+04   \n",
       "231           23.050229         686.812568           2.783798e+04   \n",
       "232           26.595666         764.515473           4.323302e+04   \n",
       "\n",
       "     fft_boundedvariation_60-90Hz_FP1  fft_entropy_30-60Hz_F7  \\\n",
       "0                            8.637547           -7.262107e+07   \n",
       "1                            8.119807           -1.209839e+08   \n",
       "2                            9.546365           -9.981389e+07   \n",
       "3                            8.531317           -1.203307e+08   \n",
       "4                            9.269653           -1.249359e+08   \n",
       "..                                ...                     ...   \n",
       "228                          8.925087           -1.892839e+06   \n",
       "229                          8.917918           -2.248918e+06   \n",
       "230                          9.299823           -1.361344e+06   \n",
       "231                          8.701862           -1.768292e+06   \n",
       "232                          8.324725           -1.311494e+06   \n",
       "\n",
       "     fft_median_18-24Hz_P4  fft_mean_8-12Hz_FP2  fft_min_30-60Hz_F8  \\\n",
       "0               791.159856          3083.456937           67.184933   \n",
       "1               819.779504          4729.075337           20.514574   \n",
       "2               845.536461          3514.132552           72.380508   \n",
       "3              1123.132611          5661.177234           28.753059   \n",
       "4              1391.190480          5206.514706           61.143013   \n",
       "..                     ...                  ...                 ...   \n",
       "228             144.459941           507.001346           10.323467   \n",
       "229             145.997280           545.821967            8.798377   \n",
       "230             162.571697           540.809174           10.145743   \n",
       "231             146.669663           509.190121            8.859476   \n",
       "232             168.693282           545.749173           10.736045   \n",
       "\n",
       "     fft_median_24-30Hz_T6  fft_ptp_1-4Hz_T5  ...  fft_std_12-18Hz_T3  \\\n",
       "0               316.579417       9739.807456  ...          561.057420   \n",
       "1               287.548800       8717.347184  ...          748.661018   \n",
       "2               294.373116      11856.395026  ...          615.721468   \n",
       "3               361.529836       8740.635365  ...          869.944993   \n",
       "4               349.504314       8885.465547  ...          987.384502   \n",
       "..                     ...               ...  ...                 ...   \n",
       "228              52.970514       2151.845021  ...          121.101126   \n",
       "229              46.920243       1783.823197  ...          136.640033   \n",
       "230              47.177228       1848.670836  ...          137.643436   \n",
       "231              52.441745       2200.179896  ...          119.666873   \n",
       "232              57.710927       1435.164108  ...          137.425011   \n",
       "\n",
       "     fft_min_8-12Hz_T4  time_nonlinenergy_PZ  time_nonlinenergy_O2  \\\n",
       "0           541.369149            539.199937            419.069166   \n",
       "1           591.408319            705.317428            546.995675   \n",
       "2           525.590413            586.937937            541.459340   \n",
       "3           418.923620           1606.243130           1989.245101   \n",
       "4           457.964697           1620.363676           1804.078269   \n",
       "..                 ...                   ...                   ...   \n",
       "228         119.812028             29.158889             23.106346   \n",
       "229          89.929126             29.515237             23.935456   \n",
       "230         101.433808             30.990496             25.028742   \n",
       "231         113.106454             26.066615             19.589126   \n",
       "232         124.487757             32.014269             26.490093   \n",
       "\n",
       "     fft_max_12-18Hz_P3  time_max_F7  time_fractaldim_PZ  fft_std_4-8Hz_FZ  \\\n",
       "0           3047.561061   302.235577            1.248265       5598.659455   \n",
       "1           3077.296844   254.457231            1.362856       5346.742763   \n",
       "2           2625.085746   235.250058            1.313786       3599.283487   \n",
       "3           4962.193551   289.004419            1.355841       5331.876739   \n",
       "4           4539.825409   280.709465            1.369368       4657.375614   \n",
       "..                  ...          ...                 ...               ...   \n",
       "228          675.202532    52.987041            1.535718        776.998179   \n",
       "229          687.584199    56.284304            1.538552        842.372795   \n",
       "230          655.229249    45.017005            1.563848        660.762800   \n",
       "231          613.349206    48.154839            1.524002        826.145813   \n",
       "232          622.670557    51.255410            1.535389        729.411591   \n",
       "\n",
       "     fft_std_18-24Hz_P3  label  \n",
       "0            427.785982   absz  \n",
       "1            464.400458   absz  \n",
       "2            414.106401   absz  \n",
       "3            635.495292   absz  \n",
       "4            588.474430   absz  \n",
       "..                  ...    ...  \n",
       "228          105.740226   cpsz  \n",
       "229           96.542610   cpsz  \n",
       "230          112.817761   cpsz  \n",
       "231          102.859281   cpsz  \n",
       "232          118.721709   cpsz  \n",
       "\n",
       "[921 rows x 46 columns]"
      ]
     },
     "execution_count": 62,
     "metadata": {},
     "output_type": "execute_result"
    }
   ],
   "source": [
    "bestTrain"
   ]
  },
  {
   "cell_type": "code",
   "execution_count": 63,
   "metadata": {},
   "outputs": [],
   "source": [
    "bestTrain.to_csv(\"trainBest.csv\", index=False )\n",
    "bestTest.to_csv(\"testBest.csv\", index=False )"
   ]
  },
  {
   "cell_type": "code",
   "execution_count": 45,
   "metadata": {},
   "outputs": [
    {
     "data": {
      "text/html": [
       "<div>\n",
       "<style scoped>\n",
       "    .dataframe tbody tr th:only-of-type {\n",
       "        vertical-align: middle;\n",
       "    }\n",
       "\n",
       "    .dataframe tbody tr th {\n",
       "        vertical-align: top;\n",
       "    }\n",
       "\n",
       "    .dataframe thead th {\n",
       "        text-align: right;\n",
       "    }\n",
       "</style>\n",
       "<table border=\"1\" class=\"dataframe\">\n",
       "  <thead>\n",
       "    <tr style=\"text-align: right;\">\n",
       "      <th></th>\n",
       "      <th>fft_std_30-60Hz_T5</th>\n",
       "      <th>fft_ptp_8-12Hz_PZ</th>\n",
       "      <th>fft_energy_18-24Hz_T5</th>\n",
       "      <th>fft_boundedvariation_60-90Hz_F8</th>\n",
       "      <th>fft_entropy_30-60Hz_F4</th>\n",
       "      <th>fft_median_18-24Hz_P3</th>\n",
       "      <th>fft_mean_8-12Hz_FP1</th>\n",
       "      <th>fft_min_30-60Hz_F7</th>\n",
       "      <th>fft_median_24-30Hz_T5</th>\n",
       "      <th>fft_ptp_1-4Hz_T4</th>\n",
       "      <th>...</th>\n",
       "      <th>fft_mean_24-30Hz_FP2</th>\n",
       "      <th>fft_std_12-18Hz_PZ</th>\n",
       "      <th>fft_min_8-12Hz_T3</th>\n",
       "      <th>time_nonlinenergy_P4</th>\n",
       "      <th>time_nonlinenergy_O1</th>\n",
       "      <th>fft_max_12-18Hz_O2</th>\n",
       "      <th>time_max_F4</th>\n",
       "      <th>time_fractaldim_P4</th>\n",
       "      <th>fft_std_4-8Hz_FP2</th>\n",
       "      <th>fft_std_18-24Hz_O2</th>\n",
       "    </tr>\n",
       "  </thead>\n",
       "  <tbody>\n",
       "    <tr>\n",
       "      <th>0</th>\n",
       "      <td>95.038542</td>\n",
       "      <td>3931.268165</td>\n",
       "      <td>5.871824e+05</td>\n",
       "      <td>9.191066</td>\n",
       "      <td>-1.381069e+08</td>\n",
       "      <td>948.013000</td>\n",
       "      <td>3258.051623</td>\n",
       "      <td>31.539694</td>\n",
       "      <td>270.910388</td>\n",
       "      <td>7950.722306</td>\n",
       "      <td>...</td>\n",
       "      <td>447.262252</td>\n",
       "      <td>808.321777</td>\n",
       "      <td>676.013265</td>\n",
       "      <td>364.532073</td>\n",
       "      <td>326.335846</td>\n",
       "      <td>2833.066703</td>\n",
       "      <td>331.277857</td>\n",
       "      <td>1.260064</td>\n",
       "      <td>4397.365769</td>\n",
       "      <td>400.647772</td>\n",
       "    </tr>\n",
       "    <tr>\n",
       "      <th>1</th>\n",
       "      <td>116.176116</td>\n",
       "      <td>3841.073168</td>\n",
       "      <td>8.738140e+05</td>\n",
       "      <td>6.388093</td>\n",
       "      <td>-1.015778e+08</td>\n",
       "      <td>967.825113</td>\n",
       "      <td>4350.105624</td>\n",
       "      <td>29.203035</td>\n",
       "      <td>294.523668</td>\n",
       "      <td>7007.502286</td>\n",
       "      <td>...</td>\n",
       "      <td>647.426758</td>\n",
       "      <td>737.806855</td>\n",
       "      <td>674.026998</td>\n",
       "      <td>409.132965</td>\n",
       "      <td>446.379336</td>\n",
       "      <td>2723.736331</td>\n",
       "      <td>473.834805</td>\n",
       "      <td>1.384696</td>\n",
       "      <td>3626.857016</td>\n",
       "      <td>438.249173</td>\n",
       "    </tr>\n",
       "    <tr>\n",
       "      <th>2</th>\n",
       "      <td>124.037128</td>\n",
       "      <td>4081.800868</td>\n",
       "      <td>8.576543e+05</td>\n",
       "      <td>8.024720</td>\n",
       "      <td>-1.384424e+08</td>\n",
       "      <td>821.784154</td>\n",
       "      <td>3723.466113</td>\n",
       "      <td>29.751495</td>\n",
       "      <td>316.850431</td>\n",
       "      <td>7791.467241</td>\n",
       "      <td>...</td>\n",
       "      <td>597.094980</td>\n",
       "      <td>913.454526</td>\n",
       "      <td>709.746331</td>\n",
       "      <td>507.884071</td>\n",
       "      <td>387.530320</td>\n",
       "      <td>3350.146831</td>\n",
       "      <td>285.682428</td>\n",
       "      <td>1.309867</td>\n",
       "      <td>3666.578566</td>\n",
       "      <td>461.350998</td>\n",
       "    </tr>\n",
       "    <tr>\n",
       "      <th>3</th>\n",
       "      <td>101.210637</td>\n",
       "      <td>7380.116297</td>\n",
       "      <td>1.276793e+06</td>\n",
       "      <td>7.979562</td>\n",
       "      <td>-2.502178e+08</td>\n",
       "      <td>909.063153</td>\n",
       "      <td>6046.319680</td>\n",
       "      <td>39.733420</td>\n",
       "      <td>244.134506</td>\n",
       "      <td>4088.148002</td>\n",
       "      <td>...</td>\n",
       "      <td>813.327592</td>\n",
       "      <td>1756.804356</td>\n",
       "      <td>632.001570</td>\n",
       "      <td>1021.617321</td>\n",
       "      <td>1559.977300</td>\n",
       "      <td>6417.198344</td>\n",
       "      <td>447.056025</td>\n",
       "      <td>1.379998</td>\n",
       "      <td>2613.849724</td>\n",
       "      <td>1078.277163</td>\n",
       "    </tr>\n",
       "    <tr>\n",
       "      <th>4</th>\n",
       "      <td>120.995472</td>\n",
       "      <td>6599.958570</td>\n",
       "      <td>9.654468e+05</td>\n",
       "      <td>9.544372</td>\n",
       "      <td>-3.358430e+08</td>\n",
       "      <td>996.522673</td>\n",
       "      <td>5607.099601</td>\n",
       "      <td>31.941579</td>\n",
       "      <td>295.552722</td>\n",
       "      <td>4633.682448</td>\n",
       "      <td>...</td>\n",
       "      <td>793.160100</td>\n",
       "      <td>1799.193248</td>\n",
       "      <td>452.689840</td>\n",
       "      <td>1525.317589</td>\n",
       "      <td>1299.355499</td>\n",
       "      <td>6307.856085</td>\n",
       "      <td>412.906651</td>\n",
       "      <td>1.382264</td>\n",
       "      <td>2533.732231</td>\n",
       "      <td>1116.171331</td>\n",
       "    </tr>\n",
       "    <tr>\n",
       "      <th>...</th>\n",
       "      <td>...</td>\n",
       "      <td>...</td>\n",
       "      <td>...</td>\n",
       "      <td>...</td>\n",
       "      <td>...</td>\n",
       "      <td>...</td>\n",
       "      <td>...</td>\n",
       "      <td>...</td>\n",
       "      <td>...</td>\n",
       "      <td>...</td>\n",
       "      <td>...</td>\n",
       "      <td>...</td>\n",
       "      <td>...</td>\n",
       "      <td>...</td>\n",
       "      <td>...</td>\n",
       "      <td>...</td>\n",
       "      <td>...</td>\n",
       "      <td>...</td>\n",
       "      <td>...</td>\n",
       "      <td>...</td>\n",
       "      <td>...</td>\n",
       "    </tr>\n",
       "    <tr>\n",
       "      <th>228</th>\n",
       "      <td>24.418414</td>\n",
       "      <td>1051.401385</td>\n",
       "      <td>3.199377e+04</td>\n",
       "      <td>9.627960</td>\n",
       "      <td>-2.201467e+06</td>\n",
       "      <td>152.247528</td>\n",
       "      <td>506.755113</td>\n",
       "      <td>11.507142</td>\n",
       "      <td>57.298668</td>\n",
       "      <td>1742.581682</td>\n",
       "      <td>...</td>\n",
       "      <td>78.176168</td>\n",
       "      <td>206.724029</td>\n",
       "      <td>114.116202</td>\n",
       "      <td>22.516956</td>\n",
       "      <td>28.743178</td>\n",
       "      <td>646.468487</td>\n",
       "      <td>66.837027</td>\n",
       "      <td>1.572988</td>\n",
       "      <td>767.700757</td>\n",
       "      <td>113.850963</td>\n",
       "    </tr>\n",
       "    <tr>\n",
       "      <th>229</th>\n",
       "      <td>21.806137</td>\n",
       "      <td>1069.479779</td>\n",
       "      <td>2.215345e+04</td>\n",
       "      <td>9.318139</td>\n",
       "      <td>-1.924272e+06</td>\n",
       "      <td>152.283263</td>\n",
       "      <td>569.127280</td>\n",
       "      <td>15.108795</td>\n",
       "      <td>42.920785</td>\n",
       "      <td>1621.193948</td>\n",
       "      <td>...</td>\n",
       "      <td>87.322048</td>\n",
       "      <td>199.994960</td>\n",
       "      <td>108.836701</td>\n",
       "      <td>21.288220</td>\n",
       "      <td>25.323213</td>\n",
       "      <td>653.102548</td>\n",
       "      <td>69.032890</td>\n",
       "      <td>1.563709</td>\n",
       "      <td>867.284528</td>\n",
       "      <td>112.400901</td>\n",
       "    </tr>\n",
       "    <tr>\n",
       "      <th>230</th>\n",
       "      <td>22.985457</td>\n",
       "      <td>973.737829</td>\n",
       "      <td>3.577024e+04</td>\n",
       "      <td>9.743408</td>\n",
       "      <td>-1.968802e+06</td>\n",
       "      <td>166.125125</td>\n",
       "      <td>541.727006</td>\n",
       "      <td>8.123622</td>\n",
       "      <td>50.613931</td>\n",
       "      <td>1731.909071</td>\n",
       "      <td>...</td>\n",
       "      <td>84.230423</td>\n",
       "      <td>200.520151</td>\n",
       "      <td>131.025462</td>\n",
       "      <td>22.646958</td>\n",
       "      <td>28.408664</td>\n",
       "      <td>698.676981</td>\n",
       "      <td>61.797132</td>\n",
       "      <td>1.557272</td>\n",
       "      <td>668.681402</td>\n",
       "      <td>122.028482</td>\n",
       "    </tr>\n",
       "    <tr>\n",
       "      <th>231</th>\n",
       "      <td>23.343950</td>\n",
       "      <td>1029.697974</td>\n",
       "      <td>2.815721e+04</td>\n",
       "      <td>9.561957</td>\n",
       "      <td>-1.780340e+06</td>\n",
       "      <td>154.527189</td>\n",
       "      <td>515.834318</td>\n",
       "      <td>11.232257</td>\n",
       "      <td>46.789214</td>\n",
       "      <td>2117.909832</td>\n",
       "      <td>...</td>\n",
       "      <td>82.078371</td>\n",
       "      <td>179.351046</td>\n",
       "      <td>110.841112</td>\n",
       "      <td>19.496585</td>\n",
       "      <td>25.749074</td>\n",
       "      <td>595.239874</td>\n",
       "      <td>58.802636</td>\n",
       "      <td>1.554403</td>\n",
       "      <td>812.869906</td>\n",
       "      <td>99.248131</td>\n",
       "    </tr>\n",
       "    <tr>\n",
       "      <th>232</th>\n",
       "      <td>22.929385</td>\n",
       "      <td>1067.447801</td>\n",
       "      <td>2.946771e+04</td>\n",
       "      <td>8.304246</td>\n",
       "      <td>-2.047307e+06</td>\n",
       "      <td>152.427365</td>\n",
       "      <td>533.243807</td>\n",
       "      <td>8.056673</td>\n",
       "      <td>46.159206</td>\n",
       "      <td>1759.029199</td>\n",
       "      <td>...</td>\n",
       "      <td>86.603789</td>\n",
       "      <td>190.164053</td>\n",
       "      <td>115.409882</td>\n",
       "      <td>24.780305</td>\n",
       "      <td>27.068973</td>\n",
       "      <td>696.464919</td>\n",
       "      <td>60.855060</td>\n",
       "      <td>1.561457</td>\n",
       "      <td>723.640758</td>\n",
       "      <td>119.867711</td>\n",
       "    </tr>\n",
       "  </tbody>\n",
       "</table>\n",
       "<p>921 rows × 45 columns</p>\n",
       "</div>"
      ],
      "text/plain": [
       "     fft_std_30-60Hz_T5  fft_ptp_8-12Hz_PZ  fft_energy_18-24Hz_T5  \\\n",
       "0             95.038542        3931.268165           5.871824e+05   \n",
       "1            116.176116        3841.073168           8.738140e+05   \n",
       "2            124.037128        4081.800868           8.576543e+05   \n",
       "3            101.210637        7380.116297           1.276793e+06   \n",
       "4            120.995472        6599.958570           9.654468e+05   \n",
       "..                  ...                ...                    ...   \n",
       "228           24.418414        1051.401385           3.199377e+04   \n",
       "229           21.806137        1069.479779           2.215345e+04   \n",
       "230           22.985457         973.737829           3.577024e+04   \n",
       "231           23.343950        1029.697974           2.815721e+04   \n",
       "232           22.929385        1067.447801           2.946771e+04   \n",
       "\n",
       "     fft_boundedvariation_60-90Hz_F8  fft_entropy_30-60Hz_F4  \\\n",
       "0                           9.191066           -1.381069e+08   \n",
       "1                           6.388093           -1.015778e+08   \n",
       "2                           8.024720           -1.384424e+08   \n",
       "3                           7.979562           -2.502178e+08   \n",
       "4                           9.544372           -3.358430e+08   \n",
       "..                               ...                     ...   \n",
       "228                         9.627960           -2.201467e+06   \n",
       "229                         9.318139           -1.924272e+06   \n",
       "230                         9.743408           -1.968802e+06   \n",
       "231                         9.561957           -1.780340e+06   \n",
       "232                         8.304246           -2.047307e+06   \n",
       "\n",
       "     fft_median_18-24Hz_P3  fft_mean_8-12Hz_FP1  fft_min_30-60Hz_F7  \\\n",
       "0               948.013000          3258.051623           31.539694   \n",
       "1               967.825113          4350.105624           29.203035   \n",
       "2               821.784154          3723.466113           29.751495   \n",
       "3               909.063153          6046.319680           39.733420   \n",
       "4               996.522673          5607.099601           31.941579   \n",
       "..                     ...                  ...                 ...   \n",
       "228             152.247528           506.755113           11.507142   \n",
       "229             152.283263           569.127280           15.108795   \n",
       "230             166.125125           541.727006            8.123622   \n",
       "231             154.527189           515.834318           11.232257   \n",
       "232             152.427365           533.243807            8.056673   \n",
       "\n",
       "     fft_median_24-30Hz_T5  fft_ptp_1-4Hz_T4  ...  fft_mean_24-30Hz_FP2  \\\n",
       "0               270.910388       7950.722306  ...            447.262252   \n",
       "1               294.523668       7007.502286  ...            647.426758   \n",
       "2               316.850431       7791.467241  ...            597.094980   \n",
       "3               244.134506       4088.148002  ...            813.327592   \n",
       "4               295.552722       4633.682448  ...            793.160100   \n",
       "..                     ...               ...  ...                   ...   \n",
       "228              57.298668       1742.581682  ...             78.176168   \n",
       "229              42.920785       1621.193948  ...             87.322048   \n",
       "230              50.613931       1731.909071  ...             84.230423   \n",
       "231              46.789214       2117.909832  ...             82.078371   \n",
       "232              46.159206       1759.029199  ...             86.603789   \n",
       "\n",
       "     fft_std_12-18Hz_PZ  fft_min_8-12Hz_T3  time_nonlinenergy_P4  \\\n",
       "0            808.321777         676.013265            364.532073   \n",
       "1            737.806855         674.026998            409.132965   \n",
       "2            913.454526         709.746331            507.884071   \n",
       "3           1756.804356         632.001570           1021.617321   \n",
       "4           1799.193248         452.689840           1525.317589   \n",
       "..                  ...                ...                   ...   \n",
       "228          206.724029         114.116202             22.516956   \n",
       "229          199.994960         108.836701             21.288220   \n",
       "230          200.520151         131.025462             22.646958   \n",
       "231          179.351046         110.841112             19.496585   \n",
       "232          190.164053         115.409882             24.780305   \n",
       "\n",
       "     time_nonlinenergy_O1  fft_max_12-18Hz_O2  time_max_F4  \\\n",
       "0              326.335846         2833.066703   331.277857   \n",
       "1              446.379336         2723.736331   473.834805   \n",
       "2              387.530320         3350.146831   285.682428   \n",
       "3             1559.977300         6417.198344   447.056025   \n",
       "4             1299.355499         6307.856085   412.906651   \n",
       "..                    ...                 ...          ...   \n",
       "228             28.743178          646.468487    66.837027   \n",
       "229             25.323213          653.102548    69.032890   \n",
       "230             28.408664          698.676981    61.797132   \n",
       "231             25.749074          595.239874    58.802636   \n",
       "232             27.068973          696.464919    60.855060   \n",
       "\n",
       "     time_fractaldim_P4  fft_std_4-8Hz_FP2  fft_std_18-24Hz_O2  \n",
       "0              1.260064        4397.365769          400.647772  \n",
       "1              1.384696        3626.857016          438.249173  \n",
       "2              1.309867        3666.578566          461.350998  \n",
       "3              1.379998        2613.849724         1078.277163  \n",
       "4              1.382264        2533.732231         1116.171331  \n",
       "..                  ...                ...                 ...  \n",
       "228            1.572988         767.700757          113.850963  \n",
       "229            1.563709         867.284528          112.400901  \n",
       "230            1.557272         668.681402          122.028482  \n",
       "231            1.554403         812.869906           99.248131  \n",
       "232            1.561457         723.640758          119.867711  \n",
       "\n",
       "[921 rows x 45 columns]"
      ]
     },
     "execution_count": 45,
     "metadata": {},
     "output_type": "execute_result"
    }
   ],
   "source": [
    "bestTrain"
   ]
  },
  {
   "cell_type": "code",
   "execution_count": null,
   "metadata": {},
   "outputs": [],
   "source": []
  }
 ],
 "metadata": {
  "kernelspec": {
   "display_name": "Python 3",
   "language": "python",
   "name": "python3"
  },
  "language_info": {
   "codemirror_mode": {
    "name": "ipython",
    "version": 3
   },
   "file_extension": ".py",
   "mimetype": "text/x-python",
   "name": "python",
   "nbconvert_exporter": "python",
   "pygments_lexer": "ipython3",
   "version": "3.7.7"
  }
 },
 "nbformat": 4,
 "nbformat_minor": 2
}
