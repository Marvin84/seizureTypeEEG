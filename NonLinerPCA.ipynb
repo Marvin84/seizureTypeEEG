{
 "cells": [
  {
   "cell_type": "code",
   "execution_count": 1,
   "metadata": {},
   "outputs": [
    {
     "name": "stderr",
     "output_type": "stream",
     "text": [
      "Using TensorFlow backend.\n"
     ]
    }
   ],
   "source": [
    "import tensorflow as tf\n",
    "import keras.backend as K\n",
    "from sklearn.preprocessing import StandardScaler, MinMaxScaler\n",
    "#from Project.utilities import *\n",
    "#from Project.dataStructures import *\n",
    "from keras.models import Sequential\n",
    "from keras.layers import PReLU, Dense, Activation,BatchNormalization,Dropout\n",
    "import numpy as np\n",
    "import pandas as pd"
   ]
  },
  {
   "cell_type": "code",
   "execution_count": 2,
   "metadata": {},
   "outputs": [],
   "source": [
    "K.set_learning_phase(0)\n",
    "rdm = np.random.RandomState()\n",
    "rdm.seed(42)\n"
   ]
  },
  {
   "cell_type": "code",
   "execution_count": 4,
   "metadata": {},
   "outputs": [],
   "source": [
    "#data = data[data.columns.drop(list(data.filter(regex='fft_boundedvariation_60-90Hz')))]"
   ]
  },
  {
   "cell_type": "code",
   "execution_count": 3,
   "metadata": {},
   "outputs": [],
   "source": [
    "\n",
    "data = pd.read_csv('allNo3090.csv')\n",
    "dataset = np.array(data)\n",
    "#rdm.shuffle(dataset)\n",
    "X=dataset\n"
   ]
  },
  {
   "cell_type": "code",
   "execution_count": 4,
   "metadata": {},
   "outputs": [
    {
     "data": {
      "text/plain": [
       "(1687, 1660)"
      ]
     },
     "execution_count": 4,
     "metadata": {},
     "output_type": "execute_result"
    }
   ],
   "source": [
    "X.shape"
   ]
  },
  {
   "cell_type": "code",
   "execution_count": 5,
   "metadata": {},
   "outputs": [
    {
     "data": {
      "text/plain": [
       "553.3333333333334"
      ]
     },
     "execution_count": 5,
     "metadata": {},
     "output_type": "execute_result"
    }
   ],
   "source": [
    "1660/3"
   ]
  },
  {
   "cell_type": "code",
   "execution_count": 4,
   "metadata": {},
   "outputs": [],
   "source": [
    "X =dataset[:,:-1].astype(np.float64)\n",
    "Y = dataset[:,-1]\n",
    "label_dic = {target:value for value, target in enumerate(sorted(set(Y.tolist())))}\n",
    "Y = [label_dic[y] for y in Y]"
   ]
  },
  {
   "cell_type": "code",
   "execution_count": 5,
   "metadata": {},
   "outputs": [],
   "source": [
    "scaler = MinMaxScaler(feature_range=(0,1))\n",
    "X = scaler.fit_transform(X)\n",
    "#xTrain = scaler.fit_transform(xTrain)\n",
    "#xTest = scaler.transform(xTest)\n",
    "\n"
   ]
  },
  {
   "cell_type": "code",
   "execution_count": 6,
   "metadata": {},
   "outputs": [],
   "source": [
    "layers = [\n",
    "    Dense(500, input_dim=len(X[0])), PReLU(), Dropout(0.2), BatchNormalization(), \n",
    "    Dense(150), PReLU(), Dropout(0.2),\n",
    "    Dense(50), PReLU(), Dropout(0.2),\n",
    "    Dense(150), PReLU(), \n",
    "    Dense(500), PReLU(), \n",
    "    Dense(len(X[0])),Activation('sigmoid')\n",
    "]"
   ]
  },
  {
   "cell_type": "code",
   "execution_count": 9,
   "metadata": {},
   "outputs": [],
   "source": [
    "layers = [\n",
    "    Dense(500, input_dim=len(X[0])), PReLU(), Dropout(0.2), BatchNormalization(), \n",
    "    Dense(200), PReLU(), Dropout(0.2),\n",
    "    Dense(50), PReLU(), Dropout(0.2),\n",
    "    Dense(20), PReLU(), Dropout(0.2),\n",
    "    Dense(50), PReLU(), Dropout(0.2),\n",
    "    Dense(200), PReLU(), \n",
    "    Dense(500), PReLU(), \n",
    "    Dense(len(X[0])),Activation('sigmoid')\n",
    "]\n",
    "\n",
    "layers = [\n",
    "    Dense(1000, input_dim=len(X[0])), PReLU(), Dropout(0.2), BatchNormalization(), \n",
    "    Dense(250), PReLU(), Dropout(0.2),\n",
    "    Dense(50), PReLU(), Dropout(0.2),\n",
    "    Dense(250), PReLU(), \n",
    "    Dense(1000), PReLU(), \n",
    "    Dense(len(X[0])),Activation('sigmoid')\n",
    "]"
   ]
  },
  {
   "cell_type": "code",
   "execution_count": 7,
   "metadata": {},
   "outputs": [
    {
     "name": "stdout",
     "output_type": "stream",
     "text": [
      "WARNING:tensorflow:From /usr/local/lib/python3.7/site-packages/tensorflow_core/python/ops/resource_variable_ops.py:1630: calling BaseResourceVariable.__init__ (from tensorflow.python.ops.resource_variable_ops) with constraint is deprecated and will be removed in a future version.\n",
      "Instructions for updating:\n",
      "If using Keras pass *_constraint arguments to layers.\n"
     ]
    }
   ],
   "source": [
    "ae = Sequential()\n",
    "for layer in layers:\n",
    "    ae.add(layer)"
   ]
  },
  {
   "cell_type": "code",
   "execution_count": 8,
   "metadata": {},
   "outputs": [
    {
     "name": "stdout",
     "output_type": "stream",
     "text": [
      "WARNING:tensorflow:From /usr/local/lib/python3.7/site-packages/tensorflow_core/python/ops/nn_impl.py:183: where (from tensorflow.python.ops.array_ops) is deprecated and will be removed in a future version.\n",
      "Instructions for updating:\n",
      "Use tf.where in 2.0, which has the same broadcast rule as np.where\n"
     ]
    }
   ],
   "source": [
    "ae.compile(loss=\"binary_crossentropy\", optimizer='adadelta')"
   ]
  },
  {
   "cell_type": "code",
   "execution_count": 9,
   "metadata": {
    "scrolled": false
   },
   "outputs": [
    {
     "name": "stderr",
     "output_type": "stream",
     "text": [
      "/usr/local/lib/python3.7/site-packages/ipykernel_launcher.py:1: UserWarning: The `nb_epoch` argument in `fit` has been renamed `epochs`.\n",
      "  \"\"\"Entry point for launching an IPython kernel.\n"
     ]
    },
    {
     "name": "stdout",
     "output_type": "stream",
     "text": [
      "WARNING:tensorflow:From /usr/local/lib/python3.7/site-packages/keras/backend/tensorflow_backend.py:422: The name tf.global_variables is deprecated. Please use tf.compat.v1.global_variables instead.\n",
      "\n",
      "Epoch 1/200\n",
      "1687/1687 [==============================] - 3s 2ms/step - loss: 0.4507\n",
      "Epoch 2/200\n",
      "1687/1687 [==============================] - 3s 1ms/step - loss: 0.1901\n",
      "Epoch 3/200\n",
      "1687/1687 [==============================] - 2s 1ms/step - loss: 0.1877\n",
      "Epoch 4/200\n",
      "1687/1687 [==============================] - 3s 1ms/step - loss: 0.1886\n",
      "Epoch 5/200\n",
      "1687/1687 [==============================] - 3s 1ms/step - loss: 0.1899\n",
      "Epoch 6/200\n",
      "1687/1687 [==============================] - 3s 2ms/step - loss: 0.1899\n",
      "Epoch 7/200\n",
      "1687/1687 [==============================] - 2s 1ms/step - loss: 0.1895\n",
      "Epoch 8/200\n",
      "1687/1687 [==============================] - 2s 1ms/step - loss: 0.1882\n",
      "Epoch 9/200\n",
      "1687/1687 [==============================] - 3s 2ms/step - loss: 0.1874\n",
      "Epoch 10/200\n",
      "1687/1687 [==============================] - 3s 2ms/step - loss: 0.1871\n",
      "Epoch 11/200\n",
      "1687/1687 [==============================] - 3s 2ms/step - loss: 0.1866\n",
      "Epoch 12/200\n",
      "1687/1687 [==============================] - 3s 2ms/step - loss: 0.1849\n",
      "Epoch 13/200\n",
      "1687/1687 [==============================] - 3s 2ms/step - loss: 0.1850\n",
      "Epoch 14/200\n",
      "1687/1687 [==============================] - 3s 2ms/step - loss: 0.1837\n",
      "Epoch 15/200\n",
      "1687/1687 [==============================] - 2s 1ms/step - loss: 0.1844\n",
      "Epoch 16/200\n",
      "1687/1687 [==============================] - 2s 1ms/step - loss: 0.1835\n",
      "Epoch 17/200\n",
      "1687/1687 [==============================] - 3s 1ms/step - loss: 0.1826\n",
      "Epoch 18/200\n",
      "1687/1687 [==============================] - 3s 2ms/step - loss: 0.1830\n",
      "Epoch 19/200\n",
      "1687/1687 [==============================] - 3s 2ms/step - loss: 0.1826\n",
      "Epoch 20/200\n",
      "1687/1687 [==============================] - 2s 1ms/step - loss: 0.1824\n",
      "Epoch 21/200\n",
      "1687/1687 [==============================] - 2s 1ms/step - loss: 0.1820\n",
      "Epoch 22/200\n",
      "1687/1687 [==============================] - 2s 1ms/step - loss: 0.1821\n",
      "Epoch 23/200\n",
      "1687/1687 [==============================] - 3s 2ms/step - loss: 0.1815\n",
      "Epoch 24/200\n",
      "1687/1687 [==============================] - 3s 2ms/step - loss: 0.1814\n",
      "Epoch 25/200\n",
      "1687/1687 [==============================] - 3s 1ms/step - loss: 0.1815\n",
      "Epoch 26/200\n",
      "1687/1687 [==============================] - 3s 1ms/step - loss: 0.1811\n",
      "Epoch 27/200\n",
      "1687/1687 [==============================] - 3s 1ms/step - loss: 0.1806\n",
      "Epoch 28/200\n",
      "1687/1687 [==============================] - 3s 2ms/step - loss: 0.1808\n",
      "Epoch 29/200\n",
      "1687/1687 [==============================] - 3s 1ms/step - loss: 0.1808\n",
      "Epoch 30/200\n",
      "1687/1687 [==============================] - 3s 1ms/step - loss: 0.1803\n",
      "Epoch 31/200\n",
      "1687/1687 [==============================] - 3s 2ms/step - loss: 0.1804\n",
      "Epoch 32/200\n",
      "1687/1687 [==============================] - 3s 2ms/step - loss: 0.1800\n",
      "Epoch 33/200\n",
      "1687/1687 [==============================] - 3s 2ms/step - loss: 0.1800\n",
      "Epoch 34/200\n",
      "1687/1687 [==============================] - 3s 1ms/step - loss: 0.1800\n",
      "Epoch 35/200\n",
      "1687/1687 [==============================] - 2s 1ms/step - loss: 0.1799\n",
      "Epoch 36/200\n",
      "1687/1687 [==============================] - 2s 1ms/step - loss: 0.1797\n",
      "Epoch 37/200\n",
      "1687/1687 [==============================] - 2s 1ms/step - loss: 0.1791\n",
      "Epoch 38/200\n",
      "1687/1687 [==============================] - 2s 1ms/step - loss: 0.1798\n",
      "Epoch 39/200\n",
      "1687/1687 [==============================] - 3s 2ms/step - loss: 0.1790\n",
      "Epoch 40/200\n",
      "1687/1687 [==============================] - 3s 2ms/step - loss: 0.1793\n",
      "Epoch 41/200\n",
      "1687/1687 [==============================] - 3s 1ms/step - loss: 0.1789\n",
      "Epoch 42/200\n",
      "1687/1687 [==============================] - 2s 1ms/step - loss: 0.1792\n",
      "Epoch 43/200\n",
      "1687/1687 [==============================] - 3s 2ms/step - loss: 0.1791\n",
      "Epoch 44/200\n",
      "1687/1687 [==============================] - 3s 2ms/step - loss: 0.1790\n",
      "Epoch 45/200\n",
      "1687/1687 [==============================] - 3s 2ms/step - loss: 0.1786\n",
      "Epoch 46/200\n",
      "1687/1687 [==============================] - 4s 2ms/step - loss: 0.1788\n",
      "Epoch 47/200\n",
      "1687/1687 [==============================] - 3s 2ms/step - loss: 0.1786\n",
      "Epoch 48/200\n",
      "1687/1687 [==============================] - 3s 2ms/step - loss: 0.1790\n",
      "Epoch 49/200\n",
      "1687/1687 [==============================] - 3s 2ms/step - loss: 0.1781\n",
      "Epoch 50/200\n",
      "1687/1687 [==============================] - 3s 2ms/step - loss: 0.1785\n",
      "Epoch 51/200\n",
      "1687/1687 [==============================] - 3s 2ms/step - loss: 0.1787\n",
      "Epoch 52/200\n",
      "1687/1687 [==============================] - 3s 2ms/step - loss: 0.1780\n",
      "Epoch 53/200\n",
      "1687/1687 [==============================] - 3s 2ms/step - loss: 0.1780\n",
      "Epoch 54/200\n",
      "1687/1687 [==============================] - 3s 2ms/step - loss: 0.1779\n",
      "Epoch 55/200\n",
      "1687/1687 [==============================] - 3s 2ms/step - loss: 0.1782\n",
      "Epoch 56/200\n",
      "1687/1687 [==============================] - 3s 2ms/step - loss: 0.1782A: 0s - loss: 0\n",
      "Epoch 57/200\n",
      "1687/1687 [==============================] - 2s 1ms/step - loss: 0.1778\n",
      "Epoch 58/200\n",
      "1687/1687 [==============================] - 3s 2ms/step - loss: 0.1779\n",
      "Epoch 59/200\n",
      "1687/1687 [==============================] - 3s 2ms/step - loss: 0.1776\n",
      "Epoch 60/200\n",
      "1687/1687 [==============================] - 2s 1ms/step - loss: 0.1778\n",
      "Epoch 61/200\n",
      "1687/1687 [==============================] - 2s 1ms/step - loss: 0.1779\n",
      "Epoch 62/200\n",
      "1687/1687 [==============================] - 2s 1ms/step - loss: 0.1777\n",
      "Epoch 63/200\n",
      "1687/1687 [==============================] - 2s 1ms/step - loss: 0.1774\n",
      "Epoch 64/200\n",
      "1687/1687 [==============================] - 2s 1ms/step - loss: 0.1774\n",
      "Epoch 65/200\n",
      "1687/1687 [==============================] - 2s 1ms/step - loss: 0.1780\n",
      "Epoch 66/200\n",
      "1687/1687 [==============================] - 2s 1ms/step - loss: 0.1772\n",
      "Epoch 67/200\n",
      "1687/1687 [==============================] - 2s 1ms/step - loss: 0.1775\n",
      "Epoch 68/200\n",
      "1687/1687 [==============================] - 2s 1ms/step - loss: 0.1769\n",
      "Epoch 69/200\n",
      "1687/1687 [==============================] - 2s 1ms/step - loss: 0.1774\n",
      "Epoch 70/200\n",
      "1687/1687 [==============================] - 2s 1ms/step - loss: 0.1771\n",
      "Epoch 71/200\n",
      "1687/1687 [==============================] - 2s 1ms/step - loss: 0.1774\n",
      "Epoch 72/200\n",
      "1687/1687 [==============================] - 2s 1ms/step - loss: 0.1773\n",
      "Epoch 73/200\n",
      "1687/1687 [==============================] - 2s 1ms/step - loss: 0.1772\n",
      "Epoch 74/200\n",
      "1687/1687 [==============================] - 2s 1ms/step - loss: 0.1769\n",
      "Epoch 75/200\n",
      "1687/1687 [==============================] - 2s 1ms/step - loss: 0.1771\n",
      "Epoch 76/200\n",
      "1687/1687 [==============================] - 2s 1ms/step - loss: 0.1765\n",
      "Epoch 77/200\n",
      "1687/1687 [==============================] - 2s 1ms/step - loss: 0.1773\n",
      "Epoch 78/200\n",
      "1687/1687 [==============================] - 2s 1ms/step - loss: 0.1766\n",
      "Epoch 79/200\n",
      "1687/1687 [==============================] - 2s 1ms/step - loss: 0.1769\n",
      "Epoch 80/200\n",
      "1687/1687 [==============================] - 2s 1ms/step - loss: 0.1768\n",
      "Epoch 81/200\n",
      "1687/1687 [==============================] - 3s 2ms/step - loss: 0.1770\n",
      "Epoch 82/200\n",
      "1687/1687 [==============================] - 2s 1ms/step - loss: 0.1764\n",
      "Epoch 83/200\n",
      "1687/1687 [==============================] - 2s 1ms/step - loss: 0.1767\n",
      "Epoch 84/200\n",
      "1687/1687 [==============================] - 2s 1ms/step - loss: 0.1765\n",
      "Epoch 85/200\n",
      "1687/1687 [==============================] - 2s 1ms/step - loss: 0.1766\n",
      "Epoch 86/200\n",
      "1687/1687 [==============================] - 2s 1ms/step - loss: 0.1766\n",
      "Epoch 87/200\n",
      "1687/1687 [==============================] - 2s 1ms/step - loss: 0.1765\n",
      "Epoch 88/200\n",
      "1687/1687 [==============================] - 2s 1ms/step - loss: 0.1764\n",
      "Epoch 89/200\n",
      "1687/1687 [==============================] - 2s 1ms/step - loss: 0.1766\n",
      "Epoch 90/200\n",
      "1687/1687 [==============================] - 2s 1ms/step - loss: 0.1763\n",
      "Epoch 91/200\n",
      "1687/1687 [==============================] - 2s 1ms/step - loss: 0.1766\n",
      "Epoch 92/200\n",
      "1687/1687 [==============================] - 2s 1ms/step - loss: 0.1763\n",
      "Epoch 93/200\n",
      "1687/1687 [==============================] - 2s 1ms/step - loss: 0.1765\n",
      "Epoch 94/200\n",
      "1687/1687 [==============================] - 2s 1ms/step - loss: 0.1761\n"
     ]
    },
    {
     "name": "stdout",
     "output_type": "stream",
     "text": [
      "Epoch 95/200\n",
      "1687/1687 [==============================] - 2s 1ms/step - loss: 0.1767\n",
      "Epoch 96/200\n",
      "1687/1687 [==============================] - 2s 1ms/step - loss: 0.1760\n",
      "Epoch 97/200\n",
      "1687/1687 [==============================] - 2s 1ms/step - loss: 0.1764\n",
      "Epoch 98/200\n",
      "1687/1687 [==============================] - 2s 1ms/step - loss: 0.1762\n",
      "Epoch 99/200\n",
      "1687/1687 [==============================] - 2s 1ms/step - loss: 0.1762\n",
      "Epoch 100/200\n",
      "1687/1687 [==============================] - 2s 1ms/step - loss: 0.1763\n",
      "Epoch 101/200\n",
      "1687/1687 [==============================] - 2s 1ms/step - loss: 0.1764\n",
      "Epoch 102/200\n",
      "1687/1687 [==============================] - 2s 1ms/step - loss: 0.1762\n",
      "Epoch 103/200\n",
      "1687/1687 [==============================] - 2s 1ms/step - loss: 0.1762\n",
      "Epoch 104/200\n",
      "1687/1687 [==============================] - 2s 1ms/step - loss: 0.1762\n",
      "Epoch 105/200\n",
      "1687/1687 [==============================] - 2s 1ms/step - loss: 0.1760\n",
      "Epoch 106/200\n",
      "1687/1687 [==============================] - 2s 1ms/step - loss: 0.1763\n",
      "Epoch 107/200\n",
      "1687/1687 [==============================] - 2s 1ms/step - loss: 0.1758\n",
      "Epoch 108/200\n",
      "1687/1687 [==============================] - 3s 2ms/step - loss: 0.1762\n",
      "Epoch 109/200\n",
      "1687/1687 [==============================] - 4s 2ms/step - loss: 0.1761\n",
      "Epoch 110/200\n",
      "1687/1687 [==============================] - 3s 2ms/step - loss: 0.1762\n",
      "Epoch 111/200\n",
      "1687/1687 [==============================] - 4s 2ms/step - loss: 0.1760\n",
      "Epoch 112/200\n",
      "1687/1687 [==============================] - 3s 2ms/step - loss: 0.1760\n",
      "Epoch 113/200\n",
      "1687/1687 [==============================] - 3s 2ms/step - loss: 0.1759\n",
      "Epoch 114/200\n",
      "1687/1687 [==============================] - 3s 2ms/step - loss: 0.1762\n",
      "Epoch 115/200\n",
      "1687/1687 [==============================] - 3s 2ms/step - loss: 0.1764\n",
      "Epoch 116/200\n",
      "1687/1687 [==============================] - 3s 2ms/step - loss: 0.1756\n",
      "Epoch 117/200\n",
      "1687/1687 [==============================] - 2s 1ms/step - loss: 0.1761\n",
      "Epoch 118/200\n",
      "1687/1687 [==============================] - 2s 1ms/step - loss: 0.1757\n",
      "Epoch 119/200\n",
      "1687/1687 [==============================] - 3s 2ms/step - loss: 0.1761\n",
      "Epoch 120/200\n",
      "1687/1687 [==============================] - 2s 1ms/step - loss: 0.1759\n",
      "Epoch 121/200\n",
      "1687/1687 [==============================] - 3s 2ms/step - loss: 0.1760\n",
      "Epoch 122/200\n",
      "1687/1687 [==============================] - 3s 2ms/step - loss: 0.1759\n",
      "Epoch 123/200\n",
      "1687/1687 [==============================] - 3s 2ms/step - loss: 0.1754\n",
      "Epoch 124/200\n",
      "1687/1687 [==============================] - 2s 1ms/step - loss: 0.1760\n",
      "Epoch 125/200\n",
      "1687/1687 [==============================] - 2s 1ms/step - loss: 0.1757\n",
      "Epoch 126/200\n",
      "1687/1687 [==============================] - 2s 1ms/step - loss: 0.1761\n",
      "Epoch 127/200\n",
      "1687/1687 [==============================] - 2s 1ms/step - loss: 0.1757\n",
      "Epoch 128/200\n",
      "1687/1687 [==============================] - 3s 2ms/step - loss: 0.1755\n",
      "Epoch 129/200\n",
      "1687/1687 [==============================] - 3s 2ms/step - loss: 0.1758\n",
      "Epoch 130/200\n",
      "1687/1687 [==============================] - 3s 2ms/step - loss: 0.1760\n",
      "Epoch 131/200\n",
      "1687/1687 [==============================] - 3s 2ms/step - loss: 0.1756\n",
      "Epoch 132/200\n",
      "1687/1687 [==============================] - 4s 2ms/step - loss: 0.1758\n",
      "Epoch 133/200\n",
      "1687/1687 [==============================] - 4s 2ms/step - loss: 0.1759\n",
      "Epoch 134/200\n",
      "1687/1687 [==============================] - 5s 3ms/step - loss: 0.1758\n",
      "Epoch 135/200\n",
      "1687/1687 [==============================] - 5s 3ms/step - loss: 0.1754\n",
      "Epoch 136/200\n",
      "1687/1687 [==============================] - 4s 2ms/step - loss: 0.1758\n",
      "Epoch 137/200\n",
      "1687/1687 [==============================] - 4s 2ms/step - loss: 0.1757\n",
      "Epoch 138/200\n",
      "1687/1687 [==============================] - 4s 2ms/step - loss: 0.1756\n",
      "Epoch 139/200\n",
      "1687/1687 [==============================] - 4s 2ms/step - loss: 0.1755\n",
      "Epoch 140/200\n",
      "1687/1687 [==============================] - 5s 3ms/step - loss: 0.1759\n",
      "Epoch 141/200\n",
      "1687/1687 [==============================] - 3s 2ms/step - loss: 0.1757\n",
      "Epoch 142/200\n",
      "1687/1687 [==============================] - 3s 2ms/step - loss: 0.1753\n",
      "Epoch 143/200\n",
      "1687/1687 [==============================] - 4s 2ms/step - loss: 0.1756\n",
      "Epoch 144/200\n",
      "1687/1687 [==============================] - 3s 2ms/step - loss: 0.1755\n",
      "Epoch 145/200\n",
      "1687/1687 [==============================] - 3s 2ms/step - loss: 0.1756\n",
      "Epoch 146/200\n",
      "1687/1687 [==============================] - 3s 2ms/step - loss: 0.1761\n",
      "Epoch 147/200\n",
      "1687/1687 [==============================] - 3s 2ms/step - loss: 0.1754\n",
      "Epoch 148/200\n",
      "1687/1687 [==============================] - 3s 2ms/step - loss: 0.1754\n",
      "Epoch 149/200\n",
      "1687/1687 [==============================] - 3s 2ms/step - loss: 0.1756\n",
      "Epoch 150/200\n",
      "1687/1687 [==============================] - 3s 2ms/step - loss: 0.1756\n",
      "Epoch 151/200\n",
      "1687/1687 [==============================] - 3s 2ms/step - loss: 0.1755\n",
      "Epoch 152/200\n",
      "1687/1687 [==============================] - 3s 2ms/step - loss: 0.1753\n",
      "Epoch 153/200\n",
      "1687/1687 [==============================] - 3s 2ms/step - loss: 0.1756\n",
      "Epoch 154/200\n",
      "1687/1687 [==============================] - 4s 2ms/step - loss: 0.1753\n",
      "Epoch 155/200\n",
      "1687/1687 [==============================] - 4s 2ms/step - loss: 0.1758\n",
      "Epoch 156/200\n",
      "1687/1687 [==============================] - 3s 2ms/step - loss: 0.1753\n",
      "Epoch 157/200\n",
      "1687/1687 [==============================] - 3s 2ms/step - loss: 0.1757\n",
      "Epoch 158/200\n",
      "1687/1687 [==============================] - 3s 2ms/step - loss: 0.1754\n",
      "Epoch 159/200\n",
      "1687/1687 [==============================] - 3s 2ms/step - loss: 0.1756\n",
      "Epoch 160/200\n",
      "1687/1687 [==============================] - 3s 2ms/step - loss: 0.1754\n",
      "Epoch 161/200\n",
      "1687/1687 [==============================] - 3s 2ms/step - loss: 0.1754\n",
      "Epoch 162/200\n",
      "1687/1687 [==============================] - 3s 2ms/step - loss: 0.1755\n",
      "Epoch 163/200\n",
      "1687/1687 [==============================] - 3s 2ms/step - loss: 0.1752\n",
      "Epoch 164/200\n",
      "1687/1687 [==============================] - 3s 2ms/step - loss: 0.1755\n",
      "Epoch 165/200\n",
      "1687/1687 [==============================] - 3s 2ms/step - loss: 0.1754\n",
      "Epoch 166/200\n",
      "1687/1687 [==============================] - 3s 2ms/step - loss: 0.1753A: 0s - loss: \n",
      "Epoch 167/200\n",
      "1687/1687 [==============================] - 3s 2ms/step - loss: 0.1753\n",
      "Epoch 168/200\n",
      "1687/1687 [==============================] - 3s 2ms/step - loss: 0.1756\n",
      "Epoch 169/200\n",
      "1687/1687 [==============================] - 3s 1ms/step - loss: 0.1751\n",
      "Epoch 170/200\n",
      "1687/1687 [==============================] - 3s 2ms/step - loss: 0.1754\n",
      "Epoch 171/200\n",
      "1687/1687 [==============================] - 3s 2ms/step - loss: 0.1754\n",
      "Epoch 172/200\n",
      "1687/1687 [==============================] - 3s 2ms/step - loss: 0.1755\n",
      "Epoch 173/200\n",
      "1687/1687 [==============================] - 3s 2ms/step - loss: 0.1752\n",
      "Epoch 174/200\n",
      "1687/1687 [==============================] - 3s 2ms/step - loss: 0.1752\n",
      "Epoch 175/200\n",
      "1687/1687 [==============================] - 3s 2ms/step - loss: 0.1754\n",
      "Epoch 176/200\n",
      "1687/1687 [==============================] - 3s 2ms/step - loss: 0.1753\n",
      "Epoch 177/200\n",
      "1687/1687 [==============================] - 4s 2ms/step - loss: 0.1755\n",
      "Epoch 178/200\n",
      "1687/1687 [==============================] - 3s 2ms/step - loss: 0.1751\n",
      "Epoch 179/200\n",
      "1687/1687 [==============================] - 3s 2ms/step - loss: 0.1751\n",
      "Epoch 180/200\n",
      "1687/1687 [==============================] - 3s 2ms/step - loss: 0.1755\n",
      "Epoch 181/200\n",
      "1687/1687 [==============================] - 4s 2ms/step - loss: 0.1752\n",
      "Epoch 182/200\n",
      "1687/1687 [==============================] - 3s 2ms/step - loss: 0.1755\n",
      "Epoch 183/200\n",
      "1687/1687 [==============================] - 3s 2ms/step - loss: 0.1755\n",
      "Epoch 184/200\n",
      "1687/1687 [==============================] - 4s 2ms/step - loss: 0.1751\n",
      "Epoch 185/200\n",
      "1687/1687 [==============================] - 4s 2ms/step - loss: 0.1755\n",
      "Epoch 186/200\n",
      "1687/1687 [==============================] - 4s 2ms/step - loss: 0.1752\n",
      "Epoch 187/200\n",
      "1687/1687 [==============================] - 3s 2ms/step - loss: 0.1751\n",
      "Epoch 188/200\n",
      "1687/1687 [==============================] - 4s 2ms/step - loss: 0.1753\n",
      "Epoch 189/200\n",
      "1687/1687 [==============================] - 3s 2ms/step - loss: 0.1753\n",
      "Epoch 190/200\n"
     ]
    },
    {
     "name": "stdout",
     "output_type": "stream",
     "text": [
      "1687/1687 [==============================] - 3s 2ms/step - loss: 0.1753\n",
      "Epoch 191/200\n",
      "1687/1687 [==============================] - 3s 2ms/step - loss: 0.1752\n",
      "Epoch 192/200\n",
      "1687/1687 [==============================] - 3s 2ms/step - loss: 0.1753\n",
      "Epoch 193/200\n",
      "1687/1687 [==============================] - 3s 2ms/step - loss: 0.1752\n",
      "Epoch 194/200\n",
      "1687/1687 [==============================] - 3s 2ms/step - loss: 0.1750\n",
      "Epoch 195/200\n",
      "1687/1687 [==============================] - 4s 2ms/step - loss: 0.1756\n",
      "Epoch 196/200\n",
      "1687/1687 [==============================] - 4s 2ms/step - loss: 0.1753\n",
      "Epoch 197/200\n",
      "1687/1687 [==============================] - 4s 2ms/step - loss: 0.1753\n",
      "Epoch 198/200\n",
      "1687/1687 [==============================] - 3s 2ms/step - loss: 0.1751\n",
      "Epoch 199/200\n",
      "1687/1687 [==============================] - 3s 2ms/step - loss: 0.1752\n",
      "Epoch 200/200\n",
      "1687/1687 [==============================] - 3s 2ms/step - loss: 0.1753\n"
     ]
    },
    {
     "data": {
      "text/plain": [
       "<keras.callbacks.callbacks.History at 0x139359c90>"
      ]
     },
     "execution_count": 9,
     "metadata": {},
     "output_type": "execute_result"
    }
   ],
   "source": [
    "ae.fit(X,X, nb_epoch=200)"
   ]
  },
  {
   "cell_type": "code",
   "execution_count": 11,
   "metadata": {},
   "outputs": [],
   "source": [
    "outputX = embedding([X])[0]\n",
    "Y = dataset[:,-1]\n",
    "\n",
    "86.7808\n",
    "86.6438\n",
    "\n",
    "87.9452 6\n"
   ]
  },
  {
   "cell_type": "code",
   "execution_count": 13,
   "metadata": {},
   "outputs": [],
   "source": [
    "embedding = K.function([ae.layers[0].input, 0], [ae.layers[9].output])"
   ]
  },
  {
   "cell_type": "code",
   "execution_count": 14,
   "metadata": {},
   "outputs": [],
   "source": [
    "outputX = embedding([X])[0]\n",
    "Y = dataset[:,-1]"
   ]
  },
  {
   "cell_type": "code",
   "execution_count": 15,
   "metadata": {},
   "outputs": [
    {
     "data": {
      "text/plain": [
       "(1687, 50)"
      ]
     },
     "execution_count": 15,
     "metadata": {},
     "output_type": "execute_result"
    }
   ],
   "source": [
    "outputX.shape"
   ]
  },
  {
   "cell_type": "code",
   "execution_count": 16,
   "metadata": {},
   "outputs": [],
   "source": [
    "all_ = np.concatenate([X, outputX, Y.reshape(outputX.shape[0],1)], axis=1)"
   ]
  },
  {
   "cell_type": "code",
   "execution_count": 18,
   "metadata": {},
   "outputs": [
    {
     "data": {
      "text/plain": [
       "(1687, 1710)"
      ]
     },
     "execution_count": 18,
     "metadata": {},
     "output_type": "execute_result"
    }
   ],
   "source": [
    "all_.shape"
   ]
  },
  {
   "cell_type": "code",
   "execution_count": 19,
   "metadata": {},
   "outputs": [],
   "source": [
    "pd.DataFrame(all_).to_csv(\"allEmbNo3060.csv\", index=False )"
   ]
  },
  {
   "cell_type": "code",
   "execution_count": 27,
   "metadata": {},
   "outputs": [],
   "source": [
    "trainData = np.array(pd.read_csv('finalTrain.csv'))\n",
    "\n",
    "Xtrain = trainData[:,:-1].astype(np.float64)\n",
    "scaler2 = MinMaxScaler(feature_range=(0,1))\n",
    "Xtrain = scaler2.fit_transform(Xtrain)\n",
    "trainEmbedding = embedding([Xtrain])[0]\n",
    "\n",
    "YtrainString = trainData[:,-1]\n",
    "label_dic = {target:value for value, target in enumerate(sorted(set(YtrainString.tolist())))}\n",
    "Ytrain = [label_dic[y] for y in YtrainString]\n"
   ]
  },
  {
   "cell_type": "code",
   "execution_count": 28,
   "metadata": {},
   "outputs": [],
   "source": [
    "testData = np.array(pd.read_csv('finalTest.csv'))\n",
    "\n",
    "Xtest = testData[:,:-1].astype(np.float64)\n",
    "Xtest = scaler2.fit_transform(Xtest)\n",
    "testEmbedding = embedding([Xtest])[0]\n",
    "\n",
    "YtestString = testData[:,-1]\n",
    "label_dic = {target:value for value, target in enumerate(sorted(set(YtestString.tolist())))}\n",
    "Ytest = [label_dic[y] for y in YtestString]\n"
   ]
  },
  {
   "cell_type": "code",
   "execution_count": 29,
   "metadata": {},
   "outputs": [],
   "source": [
    "finalTrain = np.concatenate([Xtrain, trainEmbedding,np.array(YtrainString).reshape(Xtrain.shape[0],1)], axis=1)\n",
    "finalTest = np.concatenate([Xtest, testEmbedding,np.array(YtestString).reshape(Xtest.shape[0],1)], axis=1)"
   ]
  },
  {
   "cell_type": "code",
   "execution_count": 30,
   "metadata": {},
   "outputs": [],
   "source": [
    "pd.DataFrame(finalTrain).to_csv(\"finalTrainEmb.csv\", index=False )\n",
    "pd.DataFrame(finalTest).to_csv(\"finalTestEmb.csv\", index=False )"
   ]
  },
  {
   "cell_type": "code",
   "execution_count": null,
   "metadata": {},
   "outputs": [],
   "source": []
  },
  {
   "cell_type": "code",
   "execution_count": null,
   "metadata": {},
   "outputs": [],
   "source": []
  },
  {
   "cell_type": "code",
   "execution_count": null,
   "metadata": {},
   "outputs": [],
   "source": []
  },
  {
   "cell_type": "code",
   "execution_count": null,
   "metadata": {},
   "outputs": [],
   "source": []
  },
  {
   "cell_type": "code",
   "execution_count": null,
   "metadata": {},
   "outputs": [],
   "source": []
  },
  {
   "cell_type": "code",
   "execution_count": 13,
   "metadata": {},
   "outputs": [],
   "source": [
    "import csv\n",
    "with open('pcacontent' + '.csv', 'wb') as f:\n",
    "    writer = csv.writer(f)\n",
    "    writer.writerows(outputX)\n"
   ]
  },
  {
   "cell_type": "code",
   "execution_count": 3,
   "metadata": {},
   "outputs": [],
   "source": [
    "datasetList, attributes, coloumns = read_file('/dataset.csv')\n",
    "targetsDic, targets = get_classes(coloumns['class'])\n",
    "dataset = string_to_float(switch_label(datasetList, targets))\n",
    "rdm.shuffle(dataset)\n",
    "labels = []\n",
    "for item in dataset:\n",
    "    labels.append(item[-1])  \n",
    "stringLabels = [targets[item-1] for item in labels]\n"
   ]
  },
  {
   "cell_type": "code",
   "execution_count": 4,
   "metadata": {
    "collapsed": true
   },
   "outputs": [],
   "source": [
    "X = np.array(dataset)[:,:len(dataset[0])-1].astype(np.float64)\n",
    "Y = np.array(dataset)[:,len(dataset[0])-1].astype(np.int64)\n",
    "Y = np.array([item-1 for item in Y])\n",
    "xTrain, xTest = X[:int(999*0.8)], X[int(999*0.8):]\n",
    "yTrain, yTest = Y[:int(999*0.8)], Y[int(999*0.8):]"
   ]
  },
  {
   "cell_type": "code",
   "execution_count": 18,
   "metadata": {},
   "outputs": [],
   "source": [
    "newX = []\n",
    "stringLabels = [targets[item-1] for item in labels]\n",
    "outputX = embedding([X])[0]\n",
    "for item in outputX:\n",
    "    newX.append(item)\n",
    "dataset = np.c_[np.array(newX), np.array(stringLabels)].tolist() \n",
    "\n",
    "    "
   ]
  },
  {
   "cell_type": "code",
   "execution_count": 8,
   "metadata": {
    "scrolled": true
   },
   "outputs": [],
   "source": [
    "xTrain, xTest = X[:int(1000*0.8)], X[int(1000*0.8):]\n",
    "yTrain, yTest = Y[:int(1000*0.8)], Y[int(1000*0.8):]\n"
   ]
  },
  {
   "cell_type": "code",
   "execution_count": 9,
   "metadata": {},
   "outputs": [],
   "source": [
    "layers = [\n",
    "    Dense(50, input_dim=len(xTrain[0]),init='he_normal'), PReLU(), Dropout(0.2),BatchNormalization(), \n",
    "    Dense(10, init='he_uniform'), Activation('softmax')\n",
    "]"
   ]
  },
  {
   "cell_type": "code",
   "execution_count": 11,
   "metadata": {
    "collapsed": true
   },
   "outputs": [],
   "source": [
    "model.compile(loss='sparse_categorical_crossentropy', optimizer='adadelta')"
   ]
  },
  {
   "cell_type": "code",
   "execution_count": 10,
   "metadata": {},
   "outputs": [],
   "source": [
    "model = Sequential()\n",
    "for layer in layers:\n",
    "    model.add(layer)\n"
   ]
  },
  {
   "cell_type": "code",
   "execution_count": 12,
   "metadata": {},
   "outputs": [
    {
     "ename": "TypeError",
     "evalue": "list indices must be integers, not list",
     "output_type": "error",
     "traceback": [
      "\u001b[0;31m---------------------------------------------------------------------------\u001b[0m",
      "\u001b[0;31mTypeError\u001b[0m                                 Traceback (most recent call last)",
      "\u001b[0;32m<ipython-input-12-384b095ddfa8>\u001b[0m in \u001b[0;36m<module>\u001b[0;34m()\u001b[0m\n\u001b[1;32m      2\u001b[0m \u001b[0;32mfor\u001b[0m \u001b[0me\u001b[0m \u001b[0;32min\u001b[0m \u001b[0mrange\u001b[0m\u001b[0;34m(\u001b[0m\u001b[0;36m100\u001b[0m\u001b[0;34m)\u001b[0m\u001b[0;34m:\u001b[0m\u001b[0;34m\u001b[0m\u001b[0m\n\u001b[1;32m      3\u001b[0m     \u001b[0mlosses\u001b[0m \u001b[0;34m=\u001b[0m \u001b[0;34m[\u001b[0m\u001b[0;34m]\u001b[0m\u001b[0;34m\u001b[0m\u001b[0m\n\u001b[0;32m----> 4\u001b[0;31m     \u001b[0;32mfor\u001b[0m \u001b[0mx_batch\u001b[0m\u001b[0;34m,\u001b[0m\u001b[0my_batch\u001b[0m \u001b[0;32min\u001b[0m \u001b[0mget_minibatches\u001b[0m\u001b[0;34m(\u001b[0m\u001b[0mxTrain\u001b[0m\u001b[0;34m,\u001b[0m\u001b[0myTrain\u001b[0m\u001b[0;34m)\u001b[0m\u001b[0;34m:\u001b[0m\u001b[0;34m\u001b[0m\u001b[0m\n\u001b[0m\u001b[1;32m      5\u001b[0m         \u001b[0mloss\u001b[0m \u001b[0;34m=\u001b[0m \u001b[0mmodel\u001b[0m\u001b[0;34m.\u001b[0m\u001b[0mtrain_on_batch\u001b[0m\u001b[0;34m(\u001b[0m\u001b[0mx_batch\u001b[0m\u001b[0;34m,\u001b[0m\u001b[0my_batch\u001b[0m\u001b[0;34m)\u001b[0m\u001b[0;34m\u001b[0m\u001b[0m\n\u001b[1;32m      6\u001b[0m         \u001b[0mlosses\u001b[0m\u001b[0;34m.\u001b[0m\u001b[0mappend\u001b[0m\u001b[0;34m(\u001b[0m\u001b[0mloss\u001b[0m\u001b[0;34m)\u001b[0m\u001b[0;34m\u001b[0m\u001b[0m\n",
      "\u001b[0;32m/Users/laneskij/Documents/University/Tesi/Project/utilities.pyc\u001b[0m in \u001b[0;36mget_minibatches\u001b[0;34m(X, y, mb_size)\u001b[0m\n\u001b[1;32m     13\u001b[0m         \u001b[0mright_i\u001b[0m \u001b[0;34m=\u001b[0m \u001b[0mmin\u001b[0m\u001b[0;34m(\u001b[0m\u001b[0;34m(\u001b[0m\u001b[0mb\u001b[0m\u001b[0;34m+\u001b[0m\u001b[0;36m1\u001b[0m\u001b[0;34m)\u001b[0m\u001b[0;34m*\u001b[0m\u001b[0mmb_size\u001b[0m\u001b[0;34m,\u001b[0m \u001b[0mn_samples\u001b[0m\u001b[0;34m)\u001b[0m\u001b[0;34m\u001b[0m\u001b[0m\n\u001b[1;32m     14\u001b[0m         \u001b[0mindices\u001b[0m \u001b[0;34m=\u001b[0m \u001b[0msorted\u001b[0m\u001b[0;34m(\u001b[0m\u001b[0mall_indices\u001b[0m\u001b[0;34m[\u001b[0m\u001b[0mleft_i\u001b[0m\u001b[0;34m:\u001b[0m\u001b[0mright_i\u001b[0m\u001b[0;34m]\u001b[0m\u001b[0;34m)\u001b[0m\u001b[0;34m\u001b[0m\u001b[0m\n\u001b[0;32m---> 15\u001b[0;31m         \u001b[0;32myield\u001b[0m \u001b[0mX\u001b[0m\u001b[0;34m[\u001b[0m\u001b[0mindices\u001b[0m\u001b[0;34m,\u001b[0m \u001b[0;34m:\u001b[0m\u001b[0;34m]\u001b[0m\u001b[0;34m,\u001b[0m \u001b[0my\u001b[0m\u001b[0;34m[\u001b[0m\u001b[0mindices\u001b[0m\u001b[0;34m]\u001b[0m\u001b[0;34m[\u001b[0m\u001b[0;34m:\u001b[0m\u001b[0;34m,\u001b[0m\u001b[0mNone\u001b[0m\u001b[0;34m]\u001b[0m\u001b[0;34m\u001b[0m\u001b[0m\n\u001b[0m\u001b[1;32m     16\u001b[0m \u001b[0;34m\u001b[0m\u001b[0m\n\u001b[1;32m     17\u001b[0m \u001b[0;34m\u001b[0m\u001b[0m\n",
      "\u001b[0;31mTypeError\u001b[0m: list indices must be integers, not list"
     ]
    }
   ],
   "source": [
    "\n",
    "for e in range(100):\n",
    "    losses = []\n",
    "    for x_batch,y_batch in get_minibatches(xTrain,yTrain):\n",
    "        loss = model.train_on_batch(x_batch,y_batch)\n",
    "        losses.append(loss)\n",
    "    \n",
    "    train_acc = 0.\n",
    "    for x_batch,y_batch in get_minibatches(xTrain,yTrain):\n",
    "        train_acc += (np.argmax(model.predict(x_batch), axis=1) == y_batch[:,0]).sum()\n",
    "    test_acc = 0.\n",
    "    for x_batch,y_batch in get_minibatches(xTest,yTest):\n",
    "        test_acc += (np.argmax(model.predict(x_batch), axis=1) == y_batch[:,0]).sum()\n",
    "        \n",
    "    #print 'Loss: %.3f - Train Acc: %.3f - Test Acc: %.3f' % (np.mean(losses), 100.*train_acc/len(yTrain),100.*test_acc/len(yTest))"
   ]
  }
 ],
 "metadata": {
  "anaconda-cloud": {},
  "kernelspec": {
   "display_name": "Python 3",
   "language": "python",
   "name": "python3"
  },
  "language_info": {
   "codemirror_mode": {
    "name": "ipython",
    "version": 3
   },
   "file_extension": ".py",
   "mimetype": "text/x-python",
   "name": "python",
   "nbconvert_exporter": "python",
   "pygments_lexer": "ipython3",
   "version": "3.7.7"
  }
 },
 "nbformat": 4,
 "nbformat_minor": 1
}
