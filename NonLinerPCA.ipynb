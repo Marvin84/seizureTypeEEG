{
 "cells": [
  {
   "cell_type": "code",
   "execution_count": 1,
   "metadata": {},
   "outputs": [
    {
     "name": "stderr",
     "output_type": "stream",
     "text": [
      "Using TensorFlow backend.\n"
     ]
    }
   ],
   "source": [
    "import tensorflow as tf\n",
    "import keras.backend as K\n",
    "from sklearn.preprocessing import StandardScaler, MinMaxScaler\n",
    "#from Project.utilities import *\n",
    "#from Project.dataStructures import *\n",
    "from keras.models import Sequential\n",
    "from keras.layers import PReLU, Dense, Activation,BatchNormalization,Dropout\n",
    "import numpy as np"
   ]
  },
  {
   "cell_type": "code",
   "execution_count": 2,
   "metadata": {},
   "outputs": [],
   "source": [
    "K.set_learning_phase(0)\n",
    "rdm = np.random.RandomState()\n",
    "rdm.seed(42)\n"
   ]
  },
  {
   "cell_type": "code",
   "execution_count": 3,
   "metadata": {},
   "outputs": [],
   "source": [
    "import pandas as pd\n",
    "data = pd.read_csv('/Users/laneskij/Documents/University/Tesi/Project/datasetcontentWEKA.csv')\n",
    "dataset = np.array(data)\n",
    "#rdm.shuffle(dataset)\n",
    "X=dataset\n"
   ]
  },
  {
   "cell_type": "code",
   "execution_count": 4,
   "metadata": {},
   "outputs": [],
   "source": [
    "X =dataset[:,:-1].astype(np.float64)\n",
    "Y = dataset[:,-1]\n",
    "label_dic = {target:value for value, target in enumerate(sorted(set(Y.tolist())))}\n",
    "Y = [label_dic[y] for y in Y]"
   ]
  },
  {
   "cell_type": "code",
   "execution_count": 5,
   "metadata": {},
   "outputs": [],
   "source": [
    "scaler = MinMaxScaler(feature_range=(0,1))\n",
    "X = scaler.fit_transform(X)\n",
    "#xTrain = scaler.fit_transform(xTrain)\n",
    "#xTest = scaler.transform(xTest)\n",
    "\n"
   ]
  },
  {
   "cell_type": "code",
   "execution_count": 6,
   "metadata": {},
   "outputs": [
    {
     "name": "stdout",
     "output_type": "stream",
     "text": [
      "1000 186\n"
     ]
    }
   ],
   "source": [
    "print len(X), len(X[0])"
   ]
  },
  {
   "cell_type": "code",
   "execution_count": 7,
   "metadata": {},
   "outputs": [],
   "source": [
    "layers = [\n",
    "    Dense(50, input_dim=len(X[0]),init='he_normal'), PReLU(), Dropout(0.2), #BatchNormalization(), \n",
    "    Dense(20, init='he_normal'), PReLU(), Dropout(0.2),\n",
    "    Dense(50, init='he_normal'), PReLU(),\n",
    "    Dense(len(X[0]), 'he_uniform'),Activation('sigmoid')\n",
    "]"
   ]
  },
  {
   "cell_type": "code",
   "execution_count": 8,
   "metadata": {},
   "outputs": [],
   "source": [
    "ae = Sequential()\n",
    "for layer in layers:\n",
    "    ae.add(layer)"
   ]
  },
  {
   "cell_type": "code",
   "execution_count": 9,
   "metadata": {},
   "outputs": [],
   "source": [
    "ae.compile(loss='binary_crossentropy', optimizer='adadelta')"
   ]
  },
  {
   "cell_type": "code",
   "execution_count": 10,
   "metadata": {
    "scrolled": false
   },
   "outputs": [
    {
     "name": "stdout",
     "output_type": "stream",
     "text": [
      "Epoch 1/100\n",
      "1000/1000 [==============================] - 1s - loss: 0.6978     \n",
      "Epoch 2/100\n",
      "1000/1000 [==============================] - 0s - loss: 0.6707     \n",
      "Epoch 3/100\n",
      "1000/1000 [==============================] - 0s - loss: 0.6409     \n",
      "Epoch 4/100\n",
      "1000/1000 [==============================] - 0s - loss: 0.6054     \n",
      "Epoch 5/100\n",
      "1000/1000 [==============================] - 0s - loss: 0.5836     \n",
      "Epoch 6/100\n",
      "1000/1000 [==============================] - 0s - loss: 0.5757     \n",
      "Epoch 7/100\n",
      "1000/1000 [==============================] - 0s - loss: 0.5731     \n",
      "Epoch 8/100\n",
      "1000/1000 [==============================] - 0s - loss: 0.5722     \n",
      "Epoch 9/100\n",
      "1000/1000 [==============================] - 0s - loss: 0.5716     \n",
      "Epoch 10/100\n",
      "1000/1000 [==============================] - 0s - loss: 0.5713     \n",
      "Epoch 11/100\n",
      "1000/1000 [==============================] - 0s - loss: 0.5710     \n",
      "Epoch 12/100\n",
      "1000/1000 [==============================] - 0s - loss: 0.5707     \n",
      "Epoch 13/100\n",
      "1000/1000 [==============================] - 0s - loss: 0.5704     \n",
      "Epoch 14/100\n",
      "1000/1000 [==============================] - 0s - loss: 0.5702     \n",
      "Epoch 15/100\n",
      "1000/1000 [==============================] - 0s - loss: 0.5699     \n",
      "Epoch 16/100\n",
      "1000/1000 [==============================] - 0s - loss: 0.5697     \n",
      "Epoch 17/100\n",
      "1000/1000 [==============================] - 0s - loss: 0.5694     \n",
      "Epoch 18/100\n",
      "1000/1000 [==============================] - 0s - loss: 0.5691     \n",
      "Epoch 19/100\n",
      "1000/1000 [==============================] - 0s - loss: 0.5688     \n",
      "Epoch 20/100\n",
      "1000/1000 [==============================] - 0s - loss: 0.5685     \n",
      "Epoch 21/100\n",
      "1000/1000 [==============================] - 0s - loss: 0.5682     \n",
      "Epoch 22/100\n",
      "1000/1000 [==============================] - 0s - loss: 0.5679     \n",
      "Epoch 23/100\n",
      "1000/1000 [==============================] - 0s - loss: 0.5675     \n",
      "Epoch 24/100\n",
      "1000/1000 [==============================] - 0s - loss: 0.5672     \n",
      "Epoch 25/100\n",
      "1000/1000 [==============================] - 0s - loss: 0.5668     \n",
      "Epoch 26/100\n",
      "1000/1000 [==============================] - 0s - loss: 0.5664     \n",
      "Epoch 27/100\n",
      "1000/1000 [==============================] - 0s - loss: 0.5660     \n",
      "Epoch 28/100\n",
      "1000/1000 [==============================] - 0s - loss: 0.5655     \n",
      "Epoch 29/100\n",
      "1000/1000 [==============================] - 0s - loss: 0.5651     \n",
      "Epoch 30/100\n",
      "1000/1000 [==============================] - 0s - loss: 0.5647     \n",
      "Epoch 31/100\n",
      "1000/1000 [==============================] - 0s - loss: 0.5642     \n",
      "Epoch 32/100\n",
      "1000/1000 [==============================] - 0s - loss: 0.5638     \n",
      "Epoch 33/100\n",
      "1000/1000 [==============================] - 0s - loss: 0.5633     \n",
      "Epoch 34/100\n",
      "1000/1000 [==============================] - 0s - loss: 0.5628     \n",
      "Epoch 35/100\n",
      "1000/1000 [==============================] - 0s - loss: 0.5624     \n",
      "Epoch 36/100\n",
      "1000/1000 [==============================] - 0s - loss: 0.5620     \n",
      "Epoch 37/100\n",
      "1000/1000 [==============================] - 0s - loss: 0.5615     \n",
      "Epoch 38/100\n",
      "1000/1000 [==============================] - 0s - loss: 0.5611     \n",
      "Epoch 39/100\n",
      "1000/1000 [==============================] - 0s - loss: 0.5607     \n",
      "Epoch 40/100\n",
      "1000/1000 [==============================] - 0s - loss: 0.5602     \n",
      "Epoch 41/100\n",
      "1000/1000 [==============================] - 0s - loss: 0.5598     \n",
      "Epoch 42/100\n",
      "1000/1000 [==============================] - 0s - loss: 0.5594     \n",
      "Epoch 43/100\n",
      "1000/1000 [==============================] - 0s - loss: 0.5590     \n",
      "Epoch 44/100\n",
      "1000/1000 [==============================] - 0s - loss: 0.5587     \n",
      "Epoch 45/100\n",
      "1000/1000 [==============================] - 0s - loss: 0.5583     \n",
      "Epoch 46/100\n",
      "1000/1000 [==============================] - 0s - loss: 0.5580     \n",
      "Epoch 47/100\n",
      "1000/1000 [==============================] - 0s - loss: 0.5576     \n",
      "Epoch 48/100\n",
      "1000/1000 [==============================] - 0s - loss: 0.5573     \n",
      "Epoch 49/100\n",
      "1000/1000 [==============================] - 0s - loss: 0.5570     \n",
      "Epoch 50/100\n",
      "1000/1000 [==============================] - 0s - loss: 0.5567     \n",
      "Epoch 51/100\n",
      "1000/1000 [==============================] - 0s - loss: 0.5564     \n",
      "Epoch 52/100\n",
      "1000/1000 [==============================] - 0s - loss: 0.5561     \n",
      "Epoch 53/100\n",
      "1000/1000 [==============================] - 0s - loss: 0.5559     \n",
      "Epoch 54/100\n",
      "1000/1000 [==============================] - 0s - loss: 0.5556     \n",
      "Epoch 55/100\n",
      "1000/1000 [==============================] - 0s - loss: 0.5554     \n",
      "Epoch 56/100\n",
      "1000/1000 [==============================] - 0s - loss: 0.5551     \n",
      "Epoch 57/100\n",
      "1000/1000 [==============================] - 0s - loss: 0.5549     \n",
      "Epoch 58/100\n",
      "1000/1000 [==============================] - 0s - loss: 0.5547     \n",
      "Epoch 59/100\n",
      "1000/1000 [==============================] - 0s - loss: 0.5544     \n",
      "Epoch 60/100\n",
      "1000/1000 [==============================] - 0s - loss: 0.5542     \n",
      "Epoch 61/100\n",
      "1000/1000 [==============================] - 0s - loss: 0.5540     \n",
      "Epoch 62/100\n",
      "1000/1000 [==============================] - 0s - loss: 0.5538     \n",
      "Epoch 63/100\n",
      "1000/1000 [==============================] - 0s - loss: 0.5536     \n",
      "Epoch 64/100\n",
      "1000/1000 [==============================] - 0s - loss: 0.5534     \n",
      "Epoch 65/100\n",
      "1000/1000 [==============================] - 0s - loss: 0.5533     \n",
      "Epoch 66/100\n",
      "1000/1000 [==============================] - 0s - loss: 0.5531     \n",
      "Epoch 67/100\n",
      "1000/1000 [==============================] - 0s - loss: 0.5529     \n",
      "Epoch 68/100\n",
      "1000/1000 [==============================] - 0s - loss: 0.5527     \n",
      "Epoch 69/100\n",
      "1000/1000 [==============================] - 0s - loss: 0.5525     \n",
      "Epoch 70/100\n",
      "1000/1000 [==============================] - 0s - loss: 0.5524     \n",
      "Epoch 71/100\n",
      "1000/1000 [==============================] - 0s - loss: 0.5522     \n",
      "Epoch 72/100\n",
      "1000/1000 [==============================] - 0s - loss: 0.5521     \n",
      "Epoch 73/100\n",
      "1000/1000 [==============================] - 0s - loss: 0.5519     \n",
      "Epoch 74/100\n",
      "1000/1000 [==============================] - 0s - loss: 0.5518     \n",
      "Epoch 75/100\n",
      "1000/1000 [==============================] - 0s - loss: 0.5516     \n",
      "Epoch 76/100\n",
      "1000/1000 [==============================] - 0s - loss: 0.5515     \n",
      "Epoch 77/100\n",
      "1000/1000 [==============================] - 0s - loss: 0.5513     \n",
      "Epoch 78/100\n",
      "1000/1000 [==============================] - 0s - loss: 0.5512     \n",
      "Epoch 79/100\n",
      "1000/1000 [==============================] - 0s - loss: 0.5510     \n",
      "Epoch 80/100\n",
      "1000/1000 [==============================] - 0s - loss: 0.5509     \n",
      "Epoch 81/100\n",
      "1000/1000 [==============================] - 0s - loss: 0.5508     \n",
      "Epoch 82/100\n",
      "1000/1000 [==============================] - 0s - loss: 0.5506     \n",
      "Epoch 83/100\n",
      "1000/1000 [==============================] - 0s - loss: 0.5505     \n",
      "Epoch 84/100\n",
      "1000/1000 [==============================] - 0s - loss: 0.5504     \n",
      "Epoch 85/100\n",
      "1000/1000 [==============================] - 0s - loss: 0.5503     \n",
      "Epoch 86/100\n",
      "1000/1000 [==============================] - 0s - loss: 0.5502     \n",
      "Epoch 87/100\n",
      "1000/1000 [==============================] - 0s - loss: 0.5500     \n",
      "Epoch 88/100\n",
      "1000/1000 [==============================] - 0s - loss: 0.5499     \n",
      "Epoch 89/100\n",
      "1000/1000 [==============================] - 0s - loss: 0.5498     \n",
      "Epoch 90/100\n",
      "1000/1000 [==============================] - 0s - loss: 0.5497     \n",
      "Epoch 91/100\n",
      "1000/1000 [==============================] - 0s - loss: 0.5496     \n",
      "Epoch 92/100\n",
      "1000/1000 [==============================] - 0s - loss: 0.5495     \n",
      "Epoch 93/100\n",
      "1000/1000 [==============================] - 0s - loss: 0.5494     \n",
      "Epoch 94/100\n",
      "1000/1000 [==============================] - 0s - loss: 0.5493     \n",
      "Epoch 95/100\n",
      "1000/1000 [==============================] - 0s - loss: 0.5492     \n",
      "Epoch 96/100\n",
      "1000/1000 [==============================] - 0s - loss: 0.5491     \n",
      "Epoch 97/100\n",
      "1000/1000 [==============================] - 0s - loss: 0.5490     \n",
      "Epoch 98/100\n",
      "1000/1000 [==============================] - 0s - loss: 0.5489     \n",
      "Epoch 99/100\n",
      "1000/1000 [==============================] - 0s - loss: 0.5488     \n",
      "Epoch 100/100\n",
      "1000/1000 [==============================] - 0s - loss: 0.5487     \n"
     ]
    },
    {
     "data": {
      "text/plain": [
       "<keras.callbacks.History at 0x11bd78fd0>"
      ]
     },
     "execution_count": 10,
     "metadata": {},
     "output_type": "execute_result"
    }
   ],
   "source": [
    "ae.fit(X,X, nb_epoch=100)"
   ]
  },
  {
   "cell_type": "code",
   "execution_count": 11,
   "metadata": {},
   "outputs": [],
   "source": [
    "embedding = K.function([ae.layers[0].input, 0], [ae.layers[3].output])"
   ]
  },
  {
   "cell_type": "code",
   "execution_count": 12,
   "metadata": {},
   "outputs": [],
   "source": [
    "outputX = embedding([X])[0]\n"
   ]
  },
  {
   "cell_type": "code",
   "execution_count": 13,
   "metadata": {},
   "outputs": [],
   "source": [
    "import csv\n",
    "with open('/Users/laneskij/Desktop/pcacontent' + '.csv', 'wb') as f:\n",
    "    writer = csv.writer(f)\n",
    "    writer.writerows(outputX)\n"
   ]
  },
  {
   "cell_type": "code",
   "execution_count": 3,
   "metadata": {},
   "outputs": [],
   "source": [
    "datasetList, attributes, coloumns = read_file('/dataset.csv')\n",
    "targetsDic, targets = get_classes(coloumns['class'])\n",
    "dataset = string_to_float(switch_label(datasetList, targets))\n",
    "rdm.shuffle(dataset)\n",
    "labels = []\n",
    "for item in dataset:\n",
    "    labels.append(item[-1])  \n",
    "stringLabels = [targets[item-1] for item in labels]\n"
   ]
  },
  {
   "cell_type": "code",
   "execution_count": 4,
   "metadata": {
    "collapsed": true
   },
   "outputs": [],
   "source": [
    "X = np.array(dataset)[:,:len(dataset[0])-1].astype(np.float64)\n",
    "Y = np.array(dataset)[:,len(dataset[0])-1].astype(np.int64)\n",
    "Y = np.array([item-1 for item in Y])\n",
    "xTrain, xTest = X[:int(999*0.8)], X[int(999*0.8):]\n",
    "yTrain, yTest = Y[:int(999*0.8)], Y[int(999*0.8):]"
   ]
  },
  {
   "cell_type": "code",
   "execution_count": 18,
   "metadata": {},
   "outputs": [],
   "source": [
    "newX = []\n",
    "stringLabels = [targets[item-1] for item in labels]\n",
    "outputX = embedding([X])[0]\n",
    "for item in outputX:\n",
    "    newX.append(item)\n",
    "dataset = np.c_[np.array(newX), np.array(stringLabels)].tolist() \n",
    "\n",
    "    "
   ]
  },
  {
   "cell_type": "code",
   "execution_count": 8,
   "metadata": {
    "scrolled": true
   },
   "outputs": [],
   "source": [
    "xTrain, xTest = X[:int(1000*0.8)], X[int(1000*0.8):]\n",
    "yTrain, yTest = Y[:int(1000*0.8)], Y[int(1000*0.8):]\n"
   ]
  },
  {
   "cell_type": "code",
   "execution_count": 9,
   "metadata": {},
   "outputs": [],
   "source": [
    "layers = [\n",
    "    Dense(50, input_dim=len(xTrain[0]),init='he_normal'), PReLU(), Dropout(0.2),BatchNormalization(), \n",
    "    Dense(10, init='he_uniform'), Activation('softmax')\n",
    "]"
   ]
  },
  {
   "cell_type": "code",
   "execution_count": 11,
   "metadata": {
    "collapsed": true
   },
   "outputs": [],
   "source": [
    "model.compile(loss='sparse_categorical_crossentropy', optimizer='adadelta')"
   ]
  },
  {
   "cell_type": "code",
   "execution_count": 10,
   "metadata": {},
   "outputs": [],
   "source": [
    "model = Sequential()\n",
    "for layer in layers:\n",
    "    model.add(layer)\n"
   ]
  },
  {
   "cell_type": "code",
   "execution_count": 12,
   "metadata": {},
   "outputs": [
    {
     "ename": "TypeError",
     "evalue": "list indices must be integers, not list",
     "output_type": "error",
     "traceback": [
      "\u001b[0;31m---------------------------------------------------------------------------\u001b[0m",
      "\u001b[0;31mTypeError\u001b[0m                                 Traceback (most recent call last)",
      "\u001b[0;32m<ipython-input-12-384b095ddfa8>\u001b[0m in \u001b[0;36m<module>\u001b[0;34m()\u001b[0m\n\u001b[1;32m      2\u001b[0m \u001b[0;32mfor\u001b[0m \u001b[0me\u001b[0m \u001b[0;32min\u001b[0m \u001b[0mrange\u001b[0m\u001b[0;34m(\u001b[0m\u001b[0;36m100\u001b[0m\u001b[0;34m)\u001b[0m\u001b[0;34m:\u001b[0m\u001b[0;34m\u001b[0m\u001b[0m\n\u001b[1;32m      3\u001b[0m     \u001b[0mlosses\u001b[0m \u001b[0;34m=\u001b[0m \u001b[0;34m[\u001b[0m\u001b[0;34m]\u001b[0m\u001b[0;34m\u001b[0m\u001b[0m\n\u001b[0;32m----> 4\u001b[0;31m     \u001b[0;32mfor\u001b[0m \u001b[0mx_batch\u001b[0m\u001b[0;34m,\u001b[0m\u001b[0my_batch\u001b[0m \u001b[0;32min\u001b[0m \u001b[0mget_minibatches\u001b[0m\u001b[0;34m(\u001b[0m\u001b[0mxTrain\u001b[0m\u001b[0;34m,\u001b[0m\u001b[0myTrain\u001b[0m\u001b[0;34m)\u001b[0m\u001b[0;34m:\u001b[0m\u001b[0;34m\u001b[0m\u001b[0m\n\u001b[0m\u001b[1;32m      5\u001b[0m         \u001b[0mloss\u001b[0m \u001b[0;34m=\u001b[0m \u001b[0mmodel\u001b[0m\u001b[0;34m.\u001b[0m\u001b[0mtrain_on_batch\u001b[0m\u001b[0;34m(\u001b[0m\u001b[0mx_batch\u001b[0m\u001b[0;34m,\u001b[0m\u001b[0my_batch\u001b[0m\u001b[0;34m)\u001b[0m\u001b[0;34m\u001b[0m\u001b[0m\n\u001b[1;32m      6\u001b[0m         \u001b[0mlosses\u001b[0m\u001b[0;34m.\u001b[0m\u001b[0mappend\u001b[0m\u001b[0;34m(\u001b[0m\u001b[0mloss\u001b[0m\u001b[0;34m)\u001b[0m\u001b[0;34m\u001b[0m\u001b[0m\n",
      "\u001b[0;32m/Users/laneskij/Documents/University/Tesi/Project/utilities.pyc\u001b[0m in \u001b[0;36mget_minibatches\u001b[0;34m(X, y, mb_size)\u001b[0m\n\u001b[1;32m     13\u001b[0m         \u001b[0mright_i\u001b[0m \u001b[0;34m=\u001b[0m \u001b[0mmin\u001b[0m\u001b[0;34m(\u001b[0m\u001b[0;34m(\u001b[0m\u001b[0mb\u001b[0m\u001b[0;34m+\u001b[0m\u001b[0;36m1\u001b[0m\u001b[0;34m)\u001b[0m\u001b[0;34m*\u001b[0m\u001b[0mmb_size\u001b[0m\u001b[0;34m,\u001b[0m \u001b[0mn_samples\u001b[0m\u001b[0;34m)\u001b[0m\u001b[0;34m\u001b[0m\u001b[0m\n\u001b[1;32m     14\u001b[0m         \u001b[0mindices\u001b[0m \u001b[0;34m=\u001b[0m \u001b[0msorted\u001b[0m\u001b[0;34m(\u001b[0m\u001b[0mall_indices\u001b[0m\u001b[0;34m[\u001b[0m\u001b[0mleft_i\u001b[0m\u001b[0;34m:\u001b[0m\u001b[0mright_i\u001b[0m\u001b[0;34m]\u001b[0m\u001b[0;34m)\u001b[0m\u001b[0;34m\u001b[0m\u001b[0m\n\u001b[0;32m---> 15\u001b[0;31m         \u001b[0;32myield\u001b[0m \u001b[0mX\u001b[0m\u001b[0;34m[\u001b[0m\u001b[0mindices\u001b[0m\u001b[0;34m,\u001b[0m \u001b[0;34m:\u001b[0m\u001b[0;34m]\u001b[0m\u001b[0;34m,\u001b[0m \u001b[0my\u001b[0m\u001b[0;34m[\u001b[0m\u001b[0mindices\u001b[0m\u001b[0;34m]\u001b[0m\u001b[0;34m[\u001b[0m\u001b[0;34m:\u001b[0m\u001b[0;34m,\u001b[0m\u001b[0mNone\u001b[0m\u001b[0;34m]\u001b[0m\u001b[0;34m\u001b[0m\u001b[0m\n\u001b[0m\u001b[1;32m     16\u001b[0m \u001b[0;34m\u001b[0m\u001b[0m\n\u001b[1;32m     17\u001b[0m \u001b[0;34m\u001b[0m\u001b[0m\n",
      "\u001b[0;31mTypeError\u001b[0m: list indices must be integers, not list"
     ]
    }
   ],
   "source": [
    "\n",
    "for e in range(100):\n",
    "    losses = []\n",
    "    for x_batch,y_batch in get_minibatches(xTrain,yTrain):\n",
    "        loss = model.train_on_batch(x_batch,y_batch)\n",
    "        losses.append(loss)\n",
    "    \n",
    "    train_acc = 0.\n",
    "    for x_batch,y_batch in get_minibatches(xTrain,yTrain):\n",
    "        train_acc += (np.argmax(model.predict(x_batch), axis=1) == y_batch[:,0]).sum()\n",
    "    test_acc = 0.\n",
    "    for x_batch,y_batch in get_minibatches(xTest,yTest):\n",
    "        test_acc += (np.argmax(model.predict(x_batch), axis=1) == y_batch[:,0]).sum()\n",
    "        \n",
    "    #print 'Loss: %.3f - Train Acc: %.3f - Test Acc: %.3f' % (np.mean(losses), 100.*train_acc/len(yTrain),100.*test_acc/len(yTest))"
   ]
  }
 ],
 "metadata": {
  "anaconda-cloud": {},
  "kernelspec": {
   "display_name": "Python 3",
   "language": "python",
   "name": "python3"
  },
  "language_info": {
   "codemirror_mode": {
    "name": "ipython",
    "version": 3
   },
   "file_extension": ".py",
   "mimetype": "text/x-python",
   "name": "python",
   "nbconvert_exporter": "python",
   "pygments_lexer": "ipython3",
   "version": "3.7.7"
  }
 },
 "nbformat": 4,
 "nbformat_minor": 1
}
