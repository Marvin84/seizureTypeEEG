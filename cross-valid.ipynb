{
 "cells": [
  {
   "cell_type": "code",
   "execution_count": 2,
   "metadata": {},
   "outputs": [],
   "source": [
    "from sklearn.model_selection import StratifiedShuffleSplit\n",
    "from glob import glob\n",
    "import numpy as np\n",
    "import pandas as pd\n",
    "import csv\n",
    "import math\n",
    "from sklearn.svm import SVC\n",
    "from sklearn.model_selection import cross_val_score\n",
    "from sklearn.metrics import f1_score, accuracy_score\n",
    "from sklearn.preprocessing import StandardScaler, MinMaxScaler\n",
    "from sklearn.model_selection import GridSearchCV, cross_validate, StratifiedKFold\n",
    "from sklearn.tree import DecisionTreeClassifier\n",
    "\n",
    "from sklearn.ensemble import RandomForestClassifier, GradientBoostingClassifier, AdaBoostClassifier, VotingClassifier\n",
    "\n",
    "k_fold = StratifiedKFold(n_splits=5, shuffle=True, random_state=42)"
   ]
  },
  {
   "cell_type": "code",
   "execution_count": 3,
   "metadata": {},
   "outputs": [],
   "source": [
    "#dataframe = pd.read_csv('all.csv')\n",
    "#dataframeEmb = pd.read_csv('allEmb.csv')\n",
    "\n",
    "dataframe4 = pd.read_csv('allNo3090.csv')\n",
    "dataframe4Emb = pd.read_csv('allEmbNo3060-8.csv')"
   ]
  },
  {
   "cell_type": "code",
   "execution_count": 4,
   "metadata": {},
   "outputs": [
    {
     "data": {
      "text/plain": [
       "(1687, 1710)"
      ]
     },
     "execution_count": 4,
     "metadata": {},
     "output_type": "execute_result"
    }
   ],
   "source": [
    "dataframe4Emb.shape"
   ]
  },
  {
   "cell_type": "code",
   "execution_count": null,
   "metadata": {},
   "outputs": [],
   "source": [
    "dataset = np.array(dataframe.values.tolist())\n",
    "labels = dataset[:,-1]\n",
    "xTrain = dataset[:,:-1]\n",
    "\n",
    "Ls = list(set(labels))\n",
    "mappedLabels = [Ls.index(i) for i in list(labels)]\n",
    "trainScaler = MinMaxScaler(feature_range=(0, 1))\n",
    "\n",
    "X = trainScaler.fit_transform(xTrain)\n",
    "Y = mappedLabels\n",
    "\n",
    "\n",
    "dataset = np.array(dataframeEmb.values.tolist())\n",
    "labels = dataset[:,-1]\n",
    "xTrainEmb = dataset[:,:-1]\n",
    "\n",
    "Ls = list(set(labels))\n",
    "mappedLabels = [Ls.index(i) for i in list(labels)]\n",
    "trainScaler = MinMaxScaler(feature_range=(0, 1))\n",
    "\n",
    "XEmb = trainScaler.fit_transform(xTrainEmb)\n",
    "YEmb = mappedLabels\n"
   ]
  },
  {
   "cell_type": "code",
   "execution_count": 35,
   "metadata": {},
   "outputs": [],
   "source": []
  },
  {
   "cell_type": "code",
   "execution_count": 27,
   "metadata": {},
   "outputs": [],
   "source": [
    "dataset = np.array(dataframe4.values.tolist())\n",
    "labels = dataset[:,-1]\n",
    "xTrain = dataset[:,:-1]\n",
    "\n",
    "Ls = list(set(labels))\n",
    "mappedLabels = [Ls.index(i) for i in list(labels)]\n",
    "trainScaler = MinMaxScaler(feature_range=(0, 1))\n",
    "\n",
    "X = trainScaler.fit_transform(xTrain)\n",
    "Y = mappedLabels\n",
    "\n",
    "########embe\n",
    "dataset = np.array(dataframe4Emb.values.tolist())\n",
    "labels = dataset[:,-1]\n",
    "xTrainEmb = dataset[:,:-1]\n",
    "\n",
    "Ls = list(set(labels))\n",
    "mappedLabels = [Ls.index(i) for i in list(labels)]\n",
    "trainScaler = MinMaxScaler(feature_range=(0, 1))\n",
    "\n",
    "XEmb = trainScaler.fit_transform(xTrainEmb)\n",
    "YEmb = mappedLabels\n"
   ]
  },
  {
   "cell_type": "code",
   "execution_count": null,
   "metadata": {},
   "outputs": [],
   "source": [
    "#k_fold4 = StratifiedKFold(n_splits=5, shuffle=True, random_state=42)\n",
    "#emb classes no3090\n",
    "modelPoly = SVC(C=198.0,\n",
    "                kernel='poly',\n",
    "                decision_function_shape=\"ovo\",\n",
    "                #class_weight='balanced',\n",
    "                verbose=True)\n",
    "\n",
    "\n",
    "scores = cross_validate(modelPoly, X, Y, scoring=\"f1_weighted\", cv=k_fold4)\n",
    "print(\"normal: \", np.mean(scores['test_score']))\n"
   ]
  },
  {
   "cell_type": "code",
   "execution_count": 10,
   "metadata": {},
   "outputs": [
    {
     "name": "stdout",
     "output_type": "stream",
     "text": [
      "[LibSVM][LibSVM][LibSVM][LibSVM][LibSVM]"
     ]
    },
    {
     "data": {
      "text/plain": [
       "0.911295005299445"
      ]
     },
     "execution_count": 10,
     "metadata": {},
     "output_type": "execute_result"
    }
   ],
   "source": [
    "#no3090\n",
    "modelLinear = SVC(C=7,\n",
    "               kernel='linear',               \n",
    "               decision_function_shape=\"ovo\",\n",
    "                class_weight='balanced',\n",
    "               verbose=True)\n",
    "\n",
    "#predicted = modelRbf.predict(finalTestX)\n",
    "#f1_score(mappedTestLabels, predicted, average=\"weighted\")\n",
    "\n",
    "scores = cross_validate(modelLinear, X, Y, scoring=\"f1_macro\", cv=k_fold)\n",
    "np.mean(scores['test_score'])"
   ]
  },
  {
   "cell_type": "code",
   "execution_count": 84,
   "metadata": {},
   "outputs": [
    {
     "name": "stdout",
     "output_type": "stream",
     "text": [
      "[LibSVM][LibSVM][LibSVM][LibSVM][LibSVM]"
     ]
    },
    {
     "data": {
      "text/plain": [
       "0.9282997728050792"
      ]
     },
     "execution_count": 84,
     "metadata": {},
     "output_type": "execute_result"
    }
   ],
   "source": [
    "#no3090 with 4 classes\n",
    "modelLinear = SVC(C=2,\n",
    "               kernel='linear',               \n",
    "               decision_function_shape=\"ovo\",\n",
    "                class_weight='balanced',\n",
    "               verbose=True)\n",
    "\n",
    "#predicted = modelRbf.predict(finalTestX)\n",
    "#f1_score(mappedTestLabels, predicted, average=\"weighted\")\n",
    "\n",
    "scores = cross_validate(modelLinear, X, Y, scoring=\"accuracy\", cv=k_fold)\n",
    "np.mean(scores['test_score'])"
   ]
  },
  {
   "cell_type": "code",
   "execution_count": 58,
   "metadata": {},
   "outputs": [
    {
     "name": "stdout",
     "output_type": "stream",
     "text": [
      "[LibSVM][LibSVM][LibSVM][LibSVM][LibSVM]"
     ]
    },
    {
     "data": {
      "text/plain": [
       "0.914184966325247"
      ]
     },
     "execution_count": 58,
     "metadata": {},
     "output_type": "execute_result"
    }
   ],
   "source": [
    "dataframe4Emb = pd.read_csv('allEmbNo3060-8laye200-10.csv')\n",
    "dataset = np.array(dataframe4Emb.values.tolist())\n",
    "labels = dataset[:,-1]\n",
    "xTrainEmb = dataset[:,:-1]\n",
    "\n",
    "Ls = list(set(labels))\n",
    "mappedLabels = [Ls.index(i) for i in list(labels)]\n",
    "trainScaler = MinMaxScaler(feature_range=(0, 1))\n",
    "\n",
    "XEmb = trainScaler.fit_transform(xTrainEmb)\n",
    "YEmb = mappedLabels\n",
    "\n",
    "\n",
    "modelLinear = SVC(C=6,\n",
    "               kernel='linear',               \n",
    "               decision_function_shape=\"ovo\",\n",
    "                class_weight='balanced',\n",
    "               verbose=True)\n",
    "\n",
    "\n",
    "scores = cross_validate(modelLinear, XEmb, YEmb, scoring=\"f1_macro\", cv=k_fold)\n",
    "np.mean(scores['test_score'])"
   ]
  },
  {
   "cell_type": "code",
   "execution_count": 12,
   "metadata": {},
   "outputs": [
    {
     "name": "stdout",
     "output_type": "stream",
     "text": [
      "[LibSVM][LibSVM][LibSVM][LibSVM][LibSVM]"
     ]
    },
    {
     "data": {
      "text/plain": [
       "0.9137016311860051"
      ]
     },
     "execution_count": 12,
     "metadata": {},
     "output_type": "execute_result"
    }
   ],
   "source": [
    "k_fold = StratifiedKFold(n_splits=5, shuffle=True, random_state=42)\n",
    "modelLinear = SVC(C=6,\n",
    "               kernel='linear',               \n",
    "               decision_function_shape=\"ovo\",\n",
    "                class_weight='balanced',\n",
    "               verbose=True)\n",
    "\n",
    "\n",
    "scores = cross_validate(modelLinear, XEmb, YEmb, scoring=\"f1_macro\", cv=k_fold)\n",
    "np.mean(scores['test_score'])"
   ]
  },
  {
   "cell_type": "code",
   "execution_count": 16,
   "metadata": {},
   "outputs": [
    {
     "name": "stdout",
     "output_type": "stream",
     "text": [
      "[LibSVM][LibSVM][LibSVM][LibSVM][LibSVM]normal:  0.9151538145412388\n"
     ]
    }
   ],
   "source": [
    "modelPoly = SVC(C=202.0,\n",
    "                kernel='poly',\n",
    "                decision_function_shape=\"ovo\",\n",
    "                class_weight='balanced',\n",
    "                verbose=True)\n",
    "\n",
    "\n",
    "scores = cross_validate(modelPoly, X, Y, scoring=\"f1_macro\", cv=k_fold)\n",
    "print(\"normal: \", np.mean(scores['test_score']))\n"
   ]
  },
  {
   "cell_type": "code",
   "execution_count": 61,
   "metadata": {},
   "outputs": [
    {
     "name": "stdout",
     "output_type": "stream",
     "text": [
      "[LibSVM][LibSVM][LibSVM][LibSVM][LibSVM]Emb:  0.9151003744633057\n"
     ]
    }
   ],
   "source": [
    "modelPoly = SVC(C=196.0,\n",
    "                kernel='poly',\n",
    "                decision_function_shape=\"ovo\",\n",
    "                class_weight='balanced',\n",
    "                verbose=True)\n",
    "\n",
    "scoresEmb = cross_validate(modelPoly, XEmb, YEmb, scoring=\"f1_macro\", cv=k_fold)\n",
    "print(\"Emb: \", np.mean(scoresEmb['test_score']))"
   ]
  },
  {
   "cell_type": "code",
   "execution_count": 36,
   "metadata": {},
   "outputs": [
    {
     "name": "stdout",
     "output_type": "stream",
     "text": [
      "[LibSVM][LibSVM][LibSVM][LibSVM][LibSVM]"
     ]
    },
    {
     "data": {
      "text/plain": [
       "0.921579175969385"
      ]
     },
     "execution_count": 36,
     "metadata": {},
     "output_type": "execute_result"
    }
   ],
   "source": [
    "modelLinear = SVC(C=6,\n",
    "               kernel='linear',               \n",
    "               decision_function_shape=\"ovo\",\n",
    "                class_weight='balanced',\n",
    "               verbose=True)\n",
    "\n",
    "#predicted = modelRbf.predict(finalTestX)\n",
    "#f1_score(mappedTestLabels, predicted, average=\"weighted\")\n",
    "\n",
    "scores = cross_validate(modelLinear, XEmb, YEmb, scoring=\"f1_macro\", cv=k_fold)\n",
    "np.mean(scores['test_score'])"
   ]
  },
  {
   "cell_type": "code",
   "execution_count": 38,
   "metadata": {},
   "outputs": [
    {
     "data": {
      "text/plain": [
       "1.028417066994003"
      ]
     },
     "execution_count": 38,
     "metadata": {},
     "output_type": "execute_result"
    }
   ],
   "source": [
    "(0.921579175969385-0.911295005299445)*100"
   ]
  },
  {
   "cell_type": "code",
   "execution_count": null,
   "metadata": {},
   "outputs": [],
   "source": []
  }
 ],
 "metadata": {
  "kernelspec": {
   "display_name": "Python 3",
   "language": "python",
   "name": "python3"
  },
  "language_info": {
   "codemirror_mode": {
    "name": "ipython",
    "version": 3
   },
   "file_extension": ".py",
   "mimetype": "text/x-python",
   "name": "python",
   "nbconvert_exporter": "python",
   "pygments_lexer": "ipython3",
   "version": "3.7.7"
  }
 },
 "nbformat": 4,
 "nbformat_minor": 4
}
